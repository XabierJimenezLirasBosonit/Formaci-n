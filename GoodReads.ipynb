{
 "cells": [
  {
   "cell_type": "markdown",
   "id": "7a736891",
   "metadata": {},
   "source": [
    "# Práctica Good Reads"
   ]
  },
  {
   "cell_type": "code",
   "execution_count": 1,
   "id": "55ed490e",
   "metadata": {},
   "outputs": [],
   "source": [
    "from pyspark.sql import SparkSession\n",
    "\n",
    "spark = (SparkSession\n",
    "        .builder\n",
    "        .appName(\"GoodReads\")\n",
    "        .getOrCreate())"
   ]
  },
  {
   "cell_type": "code",
   "execution_count": 2,
   "id": "d5715589",
   "metadata": {},
   "outputs": [],
   "source": [
    "read_file = \"C:/Users/xabier.jimenez/Downloads/Goodreads Dataset Project/archive/book*\"\n",
    "df = (spark.read.format(\"csv\")\n",
    "        .option(\"header\", \"true\")\n",
    "        .option(\"inferSchema\", \"true\")\n",
    "        .load(read_file))"
   ]
  },
  {
   "cell_type": "code",
   "execution_count": 3,
   "id": "9166e050",
   "metadata": {},
   "outputs": [],
   "source": [
    "from pyspark.sql import functions as F\n",
    "from os import listdir\n",
    "from os.path import isfile, join\n",
    "\n",
    "mypath=\"C:/Users/xabier.jimenez/Downloads/Goodreads Dataset Project/archive/\"\n",
    "onlyfiles = [mypath+f for f in listdir(mypath) if isfile(join(mypath, f))]\n",
    "\n",
    "df = (spark.read.format(\"csv\")\n",
    "        .option(\"header\", \"true\")\n",
    "        .option(\"inferSchema\", \"true\")\n",
    "        .option(\"quote\", \"\\\"\")\n",
    "        .option(\"escape\",\"\\\"\")\n",
    "        .option(\"multiLine\",\"true\")\n",
    "        .load(onlyfiles[0]))\n",
    "\n",
    "onlyfiles=onlyfiles[1:23]\n",
    "\n",
    "for i in onlyfiles:\n",
    "    df_aux = (spark.read.format(\"csv\")\n",
    "        .option(\"header\", \"true\")\n",
    "        .option(\"inferSchema\", \"true\")\n",
    "        .option(\"quote\", \"\\\"\")\n",
    "        .option(\"escape\",\"\\\"\")\n",
    "        .option(\"multiLine\",\"true\").load(i))\n",
    "    df_aux=df_aux.select('Id','Name','RatingDist1','pagesNumber','RatingDist4','RatingDistTotal','PublishMonth','PublishDay','Publisher','CountsOfReview','PublishYear','Language','Authors','Rating','RatingDist2','RatingDist5','ISBN','RatingDist3')\n",
    "    df=df.union(df_aux)"
   ]
  },
  {
   "cell_type": "code",
   "execution_count": 4,
   "id": "4d9eb295",
   "metadata": {},
   "outputs": [],
   "source": [
    "(df.write.format(\"parquet\")\n",
    " .mode(\"overwrite\")\n",
    " .option(\"compression\", \"snappy\")\n",
    " .save(\"/tmp/data/parquet/df_parquet_goodreads\"))\n",
    "\n",
    "file = \"\"\"/tmp/data/parquet/df_parquet_goodreads\"\"\"\n",
    "df_parquet = spark.read.option(\"mergeSchema\",\"true\").format(\"parquet\").load(file)"
   ]
  },
  {
   "cell_type": "code",
   "execution_count": 5,
   "id": "33a47daf",
   "metadata": {},
   "outputs": [
    {
     "name": "stdout",
     "output_type": "stream",
     "text": [
      "1850310\n",
      "+-------+--------------------+-----------+-----------+-----------+---------------+------------+----------+--------------------+--------------+-----------+--------+------------------+------+-----------+-----------+----------+-----------+\n",
      "|     Id|                Name|RatingDist1|pagesNumber|RatingDist4|RatingDistTotal|PublishMonth|PublishDay|           Publisher|CountsOfReview|PublishYear|Language|           Authors|Rating|RatingDist2|RatingDist5|      ISBN|RatingDist3|\n",
      "+-------+--------------------+-----------+-----------+-----------+---------------+------------+----------+--------------------+--------------+-----------+--------+------------------+------+-----------+-----------+----------+-----------+\n",
      "|2000004|Geschichte der Pr...|        1:0|        296|       4:24|       total:62|           8|         1|          Kohlhammer|             0|       1998|    null|Joseph Blenkinsopp|  3.66|        2:3|       5:10|3170117742|       3:25|\n",
      "|2000006|Josué et l'allian...|        1:0|        163|        4:0|        total:0|           6|         1|Peter Lang Gmbh, ...|             0|       1992|    null|       Moshé Anbar|   0.0|        2:0|        5:0|3631450184|        3:0|\n",
      "|2000012|The Essential Cho...|        1:2|        120|       4:12|       total:38|          12|        13|     Chronicle Books|             6|       2007|    null|    Elinor Klivans|  3.55|        2:5|        5:9|0811858049|       3:10|\n",
      "|2000021|Fifty Fifty Tutti...|        1:0|        199|        4:1|        total:9|           9|         1|Heinemann Educati...|             0|       2009|    null|      Esther Menon|   3.0|        2:1|        5:0|0435125370|        3:7|\n",
      "|2000024|  Let's Make Cookies|        1:0|         24|        4:1|        total:2|          12|         2|Children's Press(CT)|             0|       2005|    null|         Mary Hill|   3.5|        2:0|        5:0|0516239589|        3:1|\n",
      "+-------+--------------------+-----------+-----------+-----------+---------------+------------+----------+--------------------+--------------+-----------+--------+------------------+------+-----------+-----------+----------+-----------+\n",
      "only showing top 5 rows\n",
      "\n"
     ]
    }
   ],
   "source": [
    "print(df_parquet.count())\n",
    "df_parquet.show(5)"
   ]
  },
  {
   "cell_type": "markdown",
   "id": "9d797f30",
   "metadata": {},
   "source": [
    "## 1.- Rating promedio de todos los libros"
   ]
  },
  {
   "cell_type": "code",
   "execution_count": 6,
   "id": "60daeb19",
   "metadata": {},
   "outputs": [
    {
     "name": "stdout",
     "output_type": "stream",
     "text": [
      "+-----------------+\n",
      "|      avg(rating)|\n",
      "+-----------------+\n",
      "|2.894242694467414|\n",
      "+-----------------+\n",
      "\n"
     ]
    }
   ],
   "source": [
    "from pyspark.sql.functions import avg\n",
    "\n",
    "sol1= df.select(avg(F.col(\"rating\"))).show()"
   ]
  },
  {
   "cell_type": "markdown",
   "id": "ac755057",
   "metadata": {},
   "source": [
    "## 2.- Rating promedio de los libros por autor"
   ]
  },
  {
   "cell_type": "code",
   "execution_count": 7,
   "id": "2c24e41b",
   "metadata": {},
   "outputs": [
    {
     "name": "stdout",
     "output_type": "stream",
     "text": [
      "+--------------------+------------------+\n",
      "|             authors|       avg(rating)|\n",
      "+--------------------+------------------+\n",
      "|    Vera Albuquerque|               4.0|\n",
      "|       Thierry Lentz|            2.7775|\n",
      "|       Georges Nania|               0.0|\n",
      "|        Fred Allison|               0.0|\n",
      "|    Frances Bellerby|               3.0|\n",
      "|    Nathaniel Harris|3.3552631578947367|\n",
      "|       David   Baird| 3.030769230769231|\n",
      "|      Alison Daniels|              1.53|\n",
      "|         Ken England|               3.0|\n",
      "|         Bill Bright|3.3900000000000006|\n",
      "|        Mary O'Brien|              2.11|\n",
      "|        John Farndon| 3.167954545454545|\n",
      "|   Edgar M. Bronfman|             3.165|\n",
      "|     Louis Althusser| 3.892727272727273|\n",
      "|Maria Julia Bertomeu|               0.0|\n",
      "|     Mario Benedetti|3.9457407407407405|\n",
      "|  The New York Times|2.9677848101265822|\n",
      "|    Albert J. Schütz|2.6366666666666667|\n",
      "|      Eloise Jelinek|               0.0|\n",
      "|      Elizabeth Chan|              3.67|\n",
      "+--------------------+------------------+\n",
      "only showing top 20 rows\n",
      "\n"
     ]
    }
   ],
   "source": [
    "sol2= df_parquet.groupBy(\"authors\").agg(avg(F.col(\"rating\"))).show()"
   ]
  },
  {
   "cell_type": "markdown",
   "id": "e294ca62",
   "metadata": {},
   "source": [
    "## 3.- Rating promedio de los libros por Publisher"
   ]
  },
  {
   "cell_type": "code",
   "execution_count": 8,
   "id": "f32d0c33",
   "metadata": {},
   "outputs": [
    {
     "name": "stdout",
     "output_type": "stream",
     "text": [
      "+--------------------+------------------+\n",
      "|           publisher|       avg(rating)|\n",
      "+--------------------+------------------+\n",
      "|           IVP Books|3.7813559322033896|\n",
      "|    Ycp Publications|              3.95|\n",
      "|John Benjamins Pu...|1.5338690861957232|\n",
      "|                 DAW| 3.743121852970796|\n",
      "|Regina Press Malh...| 3.054615384615385|\n",
      "| Prospect Books (UK)|2.9373076923076926|\n",
      "|            Capstone| 2.639642857142857|\n",
      "|        Lorenz Books|2.9970674157303376|\n",
      "|       The New Press|3.7651210428305397|\n",
      "|     Militzke Verlag|               0.0|\n",
      "|         Cleis Press|   3.7778073089701|\n",
      "|Arcadia Publishin...| 3.143251088534107|\n",
      "|      Celestial Arts|3.3254133858267725|\n",
      "|Chicago Review Press| 3.399660441426147|\n",
      "|     Dance Books Ltd|  2.64030303030303|\n",
      "|        Chosen Books|3.7785123966942162|\n",
      "| Research Press (IL)|2.2773214285714287|\n",
      "|Civilized Publica...|4.1499999999999995|\n",
      "| Orange Frazer Press|2.7602631578947374|\n",
      "|   R.W. Secord Press|              3.67|\n",
      "+--------------------+------------------+\n",
      "only showing top 20 rows\n",
      "\n"
     ]
    }
   ],
   "source": [
    "sol3 = df_parquet.groupBy(\"publisher\").agg(avg(F.col(\"rating\"))).show()"
   ]
  },
  {
   "cell_type": "markdown",
   "id": "10fbe7a0",
   "metadata": {},
   "source": [
    "## 4.- Número promedio de páginas de todos los libros"
   ]
  },
  {
   "cell_type": "code",
   "execution_count": 9,
   "id": "3b32fa55",
   "metadata": {},
   "outputs": [
    {
     "name": "stdout",
     "output_type": "stream",
     "text": [
      "+------------------+\n",
      "|  avg(pagesNumber)|\n",
      "+------------------+\n",
      "|276.55165080445977|\n",
      "+------------------+\n",
      "\n"
     ]
    }
   ],
   "source": [
    "sol4 = df_parquet.select(avg(F.col(\"pagesNumber\"))).show()"
   ]
  },
  {
   "cell_type": "markdown",
   "id": "0f41fe19",
   "metadata": {},
   "source": [
    "## 5.- Número promedio de páginas de todos los libros por autor"
   ]
  },
  {
   "cell_type": "code",
   "execution_count": 10,
   "id": "729b3980",
   "metadata": {},
   "outputs": [
    {
     "name": "stdout",
     "output_type": "stream",
     "text": [
      "+--------------------+------------------+\n",
      "|             authors|  avg(pagesNumber)|\n",
      "+--------------------+------------------+\n",
      "|    Vera Albuquerque|             472.0|\n",
      "|       Thierry Lentz|             332.0|\n",
      "|       Georges Nania|             916.0|\n",
      "|        Fred Allison|             452.0|\n",
      "|    Frances Bellerby|             184.0|\n",
      "|    Nathaniel Harris|112.89473684210526|\n",
      "|       David   Baird| 383.9230769230769|\n",
      "|      Alison Daniels|             160.0|\n",
      "|         Ken England|             409.5|\n",
      "|         Bill Bright| 271.4107142857143|\n",
      "|        Mary O'Brien|215.33333333333334|\n",
      "|        John Farndon| 138.0681818181818|\n",
      "|   Edgar M. Bronfman|             226.5|\n",
      "|     Louis Althusser| 306.3333333333333|\n",
      "|Maria Julia Bertomeu|             199.0|\n",
      "|     Mario Benedetti| 239.4814814814815|\n",
      "|  The New York Times| 234.0759493670886|\n",
      "|    Albert J. Schütz| 306.6666666666667|\n",
      "|      Eloise Jelinek|             490.0|\n",
      "|      Elizabeth Chan|              64.0|\n",
      "+--------------------+------------------+\n",
      "only showing top 20 rows\n",
      "\n"
     ]
    }
   ],
   "source": [
    "sol5 = df_parquet.groupBy(\"authors\").agg(avg(F.col(\"pagesNumber\"))).show()"
   ]
  },
  {
   "cell_type": "markdown",
   "id": "f98e6d12",
   "metadata": {},
   "source": [
    "## 6.- Número promedio de páginas de todos los libros por Publisher"
   ]
  },
  {
   "cell_type": "code",
   "execution_count": 11,
   "id": "8321e0b1",
   "metadata": {},
   "outputs": [
    {
     "name": "stdout",
     "output_type": "stream",
     "text": [
      "+--------------------+------------------+\n",
      "|           publisher|  avg(pagesNumber)|\n",
      "+--------------------+------------------+\n",
      "|           IVP Books| 192.8502824858757|\n",
      "|    Ycp Publications|             280.0|\n",
      "|John Benjamins Pu...| 325.4698639014906|\n",
      "|                 DAW| 355.0060422960725|\n",
      "|Regina Press Malh...| 75.28205128205128|\n",
      "| Prospect Books (UK)| 281.1923076923077|\n",
      "|            Capstone|154.03571428571428|\n",
      "|        Lorenz Books|203.50786516853933|\n",
      "|       The New Press| 290.0148975791434|\n",
      "|     Militzke Verlag|             236.0|\n",
      "|         Cleis Press|222.02325581395348|\n",
      "|Arcadia Publishin...| 129.7010159651669|\n",
      "|      Celestial Arts|194.91929133858267|\n",
      "|Chicago Review Press| 259.4193548387097|\n",
      "|     Dance Books Ltd|             209.0|\n",
      "|        Chosen Books|219.05371900826447|\n",
      "| Research Press (IL)|255.21428571428572|\n",
      "|Civilized Publica...|200.33333333333334|\n",
      "| Orange Frazer Press|237.64473684210526|\n",
      "|   R.W. Secord Press|             471.0|\n",
      "+--------------------+------------------+\n",
      "only showing top 20 rows\n",
      "\n"
     ]
    }
   ],
   "source": [
    "sol6 = df_parquet.groupBy(\"publisher\").agg(avg(F.col(\"pagesNumber\"))).show()"
   ]
  },
  {
   "cell_type": "markdown",
   "id": "bbe173c7",
   "metadata": {},
   "source": [
    "## 7.- Número promedio de libros publicados por autor"
   ]
  },
  {
   "cell_type": "code",
   "execution_count": 12,
   "id": "745c159f",
   "metadata": {},
   "outputs": [
    {
     "name": "stdout",
     "output_type": "stream",
     "text": [
      "+--------------------+-----+\n",
      "|             authors|count|\n",
      "+--------------------+-----+\n",
      "|    Vera Albuquerque|    1|\n",
      "|       Thierry Lentz|    8|\n",
      "|       Georges Nania|    1|\n",
      "|        Fred Allison|    1|\n",
      "|    Frances Bellerby|    1|\n",
      "|    Nathaniel Harris|   19|\n",
      "|       David   Baird|   13|\n",
      "|      Alison Daniels|    2|\n",
      "|         Ken England|    2|\n",
      "|         Bill Bright|   56|\n",
      "|        Mary O'Brien|    3|\n",
      "|        John Farndon|   44|\n",
      "|   Edgar M. Bronfman|    4|\n",
      "|     Louis Althusser|   33|\n",
      "|Maria Julia Bertomeu|    1|\n",
      "|     Mario Benedetti|   54|\n",
      "|  The New York Times|  158|\n",
      "|    Albert J. Schütz|    3|\n",
      "|      Eloise Jelinek|    1|\n",
      "|      Elizabeth Chan|    1|\n",
      "+--------------------+-----+\n",
      "only showing top 20 rows\n",
      "\n"
     ]
    }
   ],
   "source": [
    "sol7 = df_parquet.groupBy(\"authors\").count().show()"
   ]
  },
  {
   "cell_type": "markdown",
   "id": "b1e3c152",
   "metadata": {},
   "source": [
    "## 8.- Ordenar los libros de mayor a menor (Top 15) por número de ratings dados por usuarios (excluir aquellos valores sin rating)"
   ]
  },
  {
   "cell_type": "code",
   "execution_count": 13,
   "id": "21fed67b",
   "metadata": {},
   "outputs": [
    {
     "name": "stdout",
     "output_type": "stream",
     "text": [
      "+--------------------+-----+\n",
      "|                name|count|\n",
      "+--------------------+-----+\n",
      "|     Collected Poems|   24|\n",
      "|      Selected Poems|   24|\n",
      "|           Jane Eyre|   24|\n",
      "|        Little Women|   23|\n",
      "|              Hamlet|   23|\n",
      "|             Othello|   22|\n",
      "|   The Secret Garden|   22|\n",
      "|A Midsummer Night...|   21|\n",
      "|     Robinson Crusoe|   21|\n",
      "|          The Prince|   21|\n",
      "|   Collected Stories|   21|\n",
      "|                Emma|   21|\n",
      "|     Treasure Island|   21|\n",
      "|       Madame Bovary|   21|\n",
      "|  The Scarlet Letter|   21|\n",
      "+--------------------+-----+\n",
      "only showing top 15 rows\n",
      "\n"
     ]
    }
   ],
   "source": [
    "sol8 = df_parquet.groupBy(\"name\").count().orderBy(F.col(\"count\").desc()).show(15)"
   ]
  },
  {
   "cell_type": "markdown",
   "id": "1230895a",
   "metadata": {},
   "source": [
    "## 9.- Obtener Top 5 de ratings más frecuentes otorgados por usuarios"
   ]
  },
  {
   "cell_type": "code",
   "execution_count": 14,
   "id": "edb21a70",
   "metadata": {},
   "outputs": [
    {
     "name": "stdout",
     "output_type": "stream",
     "text": [
      "+------+------+\n",
      "|rating| count|\n",
      "+------+------+\n",
      "|   0.0|451783|\n",
      "|   4.0|151979|\n",
      "|   3.0| 87288|\n",
      "|   5.0| 79827|\n",
      "|   3.5| 45222|\n",
      "+------+------+\n",
      "only showing top 5 rows\n",
      "\n"
     ]
    }
   ],
   "source": [
    "sol9 = df_parquet.groupBy(\"rating\").count().orderBy(F.col(\"count\").desc()).show(5)"
   ]
  }
 ],
 "metadata": {
  "kernelspec": {
   "display_name": "Python 3 (ipykernel)",
   "language": "python",
   "name": "python3"
  },
  "language_info": {
   "codemirror_mode": {
    "name": "ipython",
    "version": 3
   },
   "file_extension": ".py",
   "mimetype": "text/x-python",
   "name": "python",
   "nbconvert_exporter": "python",
   "pygments_lexer": "ipython3",
   "version": "3.9.7"
  }
 },
 "nbformat": 4,
 "nbformat_minor": 5
}
