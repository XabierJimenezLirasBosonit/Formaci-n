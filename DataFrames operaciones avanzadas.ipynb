{
 "cells": [
  {
   "cell_type": "markdown",
   "metadata": {},
   "source": [
    "# Operaciones avanzadas con DataFrames"
   ]
  },
  {
   "cell_type": "markdown",
   "metadata": {},
   "source": [
    "## Descripción de las variables"
   ]
  },
  {
   "cell_type": "markdown",
   "metadata": {},
   "source": [
    "El dataset, obtenido de <a target = \"_blank\" href=\"https://www.transtats.bts.gov/Fields.asp?Table_ID=236\">este link</a> está compuesto por las siguientes variables referidas siempre al año 2018:\n",
    "\n",
    "1. **Month** 1-4\n",
    "2. **DayofMonth** 1-31\n",
    "3. **DayOfWeek** 1 (Monday) - 7 (Sunday)\n",
    "4. **FlightDate** fecha del vuelo\n",
    "5. **Origin** código IATA del aeropuerto de origen\n",
    "6. **OriginCity** ciudad donde está el aeropuerto de origen\n",
    "7. **Dest** código IATA del aeropuerto de destino\n",
    "8. **DestCity** ciudad donde está el aeropuerto de destino  \n",
    "9. **DepTime** hora real de salida (local, hhmm)\n",
    "10. **DepDelay** retraso a la salida, en minutos\n",
    "11. **ArrTime** hora real de llegada (local, hhmm)\n",
    "12. **ArrDelay** retraso a la llegada, en minutos: se considera que un vuelo ha llegado \"on time\" si aterrizó menos de 15 minutos más tarde de la hora prevista en el Computerized Reservations Systems (CRS).\n",
    "13. **Cancelled** si el vuelo fue cancelado (1 = sí, 0 = no)\n",
    "14. **CancellationCode** razón de cancelación (A = aparato, B = tiempo atmosférico, C = NAS, D = seguridad)\n",
    "15. **Diverted** si el vuelo ha sido desviado (1 = sí, 0 = no)\n",
    "16. **ActualElapsedTime** tiempo real invertido en el vuelo\n",
    "17. **AirTime** en minutos\n",
    "18. **Distance** en millas\n",
    "19. **CarrierDelay** en minutos: El retraso del transportista está bajo el control del transportista aéreo. Ejemplos de sucesos que pueden determinar el retraso del transportista son: limpieza de la aeronave, daño de la aeronave, espera de la llegada de los pasajeros o la tripulación de conexión, equipaje, impacto de un pájaro, carga de equipaje, servicio de comidas, computadora, equipo del transportista, problemas legales de la tripulación (descanso del piloto o acompañante) , daños por mercancías peligrosas, inspección de ingeniería, abastecimiento de combustible, pasajeros discapacitados, tripulación retrasada, servicio de inodoros, mantenimiento, ventas excesivas, servicio de agua potable, denegación de viaje a pasajeros en mal estado, proceso de embarque muy lento, equipaje de mano no válido, retrasos de peso y equilibrio.\n",
    "20. **WeatherDelay** en minutos: causado por condiciones atmosféricas extremas o peligrosas, previstas o que se han manifestado antes del despegue, durante el viaje, o a la llegada.\n",
    "21. **NASDelay** en minutos: retraso causado por el National Airspace System (NAS) por motivos como condiciones meteorológicas (perjudiciales pero no extremas), operaciones del aeropuerto, mucho tráfico aéreo, problemas con los controladores aéreos, etc.\n",
    "22. **SecurityDelay** en minutos: causado por la evacuación de una terminal, re-embarque de un avión debido a brechas en la seguridad, fallos en dispositivos del control de seguridad, colas demasiado largas en el control de seguridad, etc.\n",
    "23. **LateAircraftDelay** en minutos: debido al propio retraso del avión al llegar, problemas para conseguir aterrizar en un aeropuerto a una hora más tardía de la que estaba prevista."
   ]
  },
  {
   "cell_type": "code",
   "execution_count": 2,
   "metadata": {},
   "outputs": [],
   "source": [
    "from pyspark.sql import SparkSession\n",
    "spark = (SparkSession\n",
    "        .builder\n",
    "        .appName(\"PythonFlights\")\n",
    "        .getOrCreate())"
   ]
  },
  {
   "cell_type": "code",
   "execution_count": 3,
   "metadata": {},
   "outputs": [],
   "source": [
    "import pyspark.sql.functions as F\n",
    "from pyspark.sql.types import IntegerType\n",
    "\n",
    "# Leemos los datos y quitamos filas con NA y convertimos a numéricas las columnas inferidas incorrectamente\n",
    "flightsDF = spark.read\\\n",
    "                 .option(\"header\", \"true\")\\\n",
    "                 .option(\"inferSchema\", \"true\")\\\n",
    "                 .csv(\"C:/Users/xabier.jimenez/Documents/EjerNavidadAdrian/Teoria y ejercicios/flights-jan-apr-2018.csv\")\n",
    "\n",
    "# Convertimos a enteros y re-categorizamos ArrDelay en una nueva columna ArrDelayCat\n",
    "# None (< 15 min), Slight(entre 15 y 60 min), Huge (> 60 min)\n",
    "\n",
    "cleanFlightsDF = flightsDF.withColumn(\"ArrDelayCat\", F.when(F.col(\"ArrDelay\") < 15, \"None\")\\\n",
    "                                                      .when((F.col(\"ArrDelay\") >= 15) & (F.col(\"ArrDelay\") < 60), \"Slight\")\\\n",
    "                                                      .otherwise(\"Huge\"))\\\n",
    "                           .cache()"
   ]
  },
  {
   "cell_type": "markdown",
   "metadata": {},
   "source": [
    "## Hagamos algunas preguntas a los datos para obtener conclusiones"
   ]
  },
  {
   "cell_type": "markdown",
   "metadata": {},
   "source": [
    "Imaginemos que somos los dueños de una web de viajes que rastrea internet en busca de vuelos en agencias y otras páginas, los compara y recomienda el más adecuado para el aeropuerto. Junto con esta recomendación, querríamos dar también información sobre vuelos fiables y no fiables en lo que respecta a la puntualidad. Esto depende de muchos factores, como el origen y destino, duración del vuelo, hora del día, etc."
   ]
  },
  {
   "cell_type": "markdown",
   "metadata": {},
   "source": [
    "### Agrupación y agregaciones"
   ]
  },
  {
   "cell_type": "markdown",
   "metadata": {},
   "source": [
    "<div class=\"alert alert-block alert-success\">\n",
    "<p><b>PREGUNTA</b>: ¿Cuáles son los vuelos (origen, destino) con mayor retraso medio? ¿Cuántos vuelos existen entre cada par de aeropuertos?</p>\n",
    "<p><b>PISTA</b>: Tras hacer las agregaciones para cada pareja \"Origin\", \"Dest\" (una agregación para el retraso medio y otra para contar), aplica el método sort(F.col(\"avgDelay\").desc()) para ordenar de forma decreciente por la nueva columna del retraso medio.\n",
    "</div>"
   ]
  },
  {
   "cell_type": "code",
   "execution_count": 32,
   "metadata": {},
   "outputs": [
    {
     "name": "stdout",
     "output_type": "stream",
     "text": [
      "+------+----+-----------------+-------------+\n",
      "|Origin|Dest|         avgDelay|count(Origin)|\n",
      "+------+----+-----------------+-------------+\n",
      "|   RDM| MFR|           1347.0|            2|\n",
      "|   MDT| HPN|            798.0|            1|\n",
      "|   ORD| GTF|            212.0|            1|\n",
      "|   ICT| DAY|            210.0|            1|\n",
      "|   ELM| ATL|            169.0|            2|\n",
      "|   DSM| PIA|            168.0|            1|\n",
      "|   MSP| LEX|            153.0|            2|\n",
      "|   YNG| PIE|            141.0|            1|\n",
      "|   CMH| HOU|            120.0|            1|\n",
      "|   HRL| DAL|            111.0|            1|\n",
      "|   PIE| YNG|            104.0|            1|\n",
      "|   PPG| HNL|96.51851851851852|           27|\n",
      "|   HNL| PPG|96.22222222222223|           27|\n",
      "|   AVP| SFB|             93.0|            1|\n",
      "|   CPR| LAS|             85.0|            1|\n",
      "|   LAS| CPR|             82.0|            1|\n",
      "|   MSP| PVD|             74.0|            1|\n",
      "|   TUL| OKC|             69.0|            1|\n",
      "|   ORF| BOS|67.96825396825396|           72|\n",
      "|   GRK| ATL|            63.85|           21|\n",
      "+------+----+-----------------+-------------+\n",
      "only showing top 20 rows\n",
      "\n"
     ]
    }
   ],
   "source": [
    "averageDelayOriginDestDF = cleanFlightsDF.groupby(F.col(\"Origin\"),F.col(\"Dest\"))\\\n",
    "                .agg(F.mean(\"ArrDelay\").alias(\"avgDelay\"), F.count(\"Origin\"))\\\n",
    "                .sort(F.col(\"avgDelay\").desc()) \n",
    "\n",
    "averageDelayOriginDestDF.show()"
   ]
  },
  {
   "cell_type": "markdown",
   "metadata": {},
   "source": [
    "<div class=\"alert alert-block alert-success\">\n",
    "<p><b>PREGUNTA</b>: ¿Es el avión un medio de transporte fiable? Mostrar el número de vuelos en cada categoría de retraso.</p>\n",
    "En lugar de llamar agg(F.count(\"*\")), podemos llamar a la transformación count() sobre el resultado de groupBy(), y creará\n",
    "automáticamente una columna llamada \"count\" con los conteos para cada grupo.\n",
    "<p> Ahora agrupar también por cada aeropuerto de origen, y mostrando una columna distinta por cada tipo de retraso, con el recuento. PISTA: utilizar la función pivot(\"colName\").</p>"
   ]
  },
  {
   "cell_type": "code",
   "execution_count": 18,
   "metadata": {},
   "outputs": [
    {
     "name": "stdout",
     "output_type": "stream",
     "text": [
      "+-----------+-------+\n",
      "|ArrDelayCat|  count|\n",
      "+-----------+-------+\n",
      "|     Slight| 220431|\n",
      "|       None|1472369|\n",
      "|       Huge| 154961|\n",
      "+-----------+-------+\n",
      "\n"
     ]
    }
   ],
   "source": [
    "aux = cleanFlightsDF.groupby(F.col(\"ArrDelayCat\")).count()\n",
    "\n",
    "aux.show()"
   ]
  },
  {
   "cell_type": "code",
   "execution_count": 21,
   "metadata": {},
   "outputs": [
    {
     "name": "stdout",
     "output_type": "stream",
     "text": [
      "+------+----+----+----+------+\n",
      "|Origin|Dest|Huge|None|Slight|\n",
      "+------+----+----+----+------+\n",
      "|   MCI| MKE|   4| 133|     9|\n",
      "|   TPA| ACY|   3|  84|     3|\n",
      "|   PBI| DCA|  31| 283|    40|\n",
      "|   DSM| EWR|   6|  71|    11|\n",
      "|   MDW| MEM|  16| 130|    33|\n",
      "|   ORD| PDX|  17| 379|    54|\n",
      "|   SMF| BUR|  43| 529|    90|\n",
      "|   STS| PHX|   8|  77|    13|\n",
      "|   MCI| IAH|  35| 351|    49|\n",
      "|   FSD| ATL|   6|  57|     8|\n",
      "|   PHL| MCO| 129| 976|   194|\n",
      "|   ATL| GSP|  37| 803|    77|\n",
      "|   SJC| LIH|null|  57|     2|\n",
      "|   DSM| MCO|   1|  28|     9|\n",
      "|   PBG| PGD|null|  14|     3|\n",
      "|   LBB| DEN|  17| 133|    18|\n",
      "|   SNA| PHX|  49| 668|   221|\n",
      "|   PIE| AVP|null|   1|  null|\n",
      "|   LAS| LIT|   5|  71|    14|\n",
      "|   BQN| MCO|   7|  62|    20|\n",
      "+------+----+----+----+------+\n",
      "only showing top 20 rows\n",
      "\n"
     ]
    }
   ],
   "source": [
    "aux = cleanFlightsDF.groupby(\"Origin\", \"Dest\").pivot(\"ArrDelayCat\").count()\n",
    "\n",
    "aux.show()"
   ]
  },
  {
   "cell_type": "markdown",
   "metadata": {},
   "source": [
    "<div class=\"alert alert-block alert-success\">\n",
    "<p><b>PREGUNTA</b>: ¿Hay relación entre el día de la semana y el retraso a la salida o a la llegada?</p>\n",
    "    <p><b>PISTA</b>: Calcula el retraso medio a la salida y a la llegada para cada día de la semana y ordena por una de ellas descendentemente.</p>\n",
    "    <p> Ahora haz lo mismo para cada día pero solo con el retraso a la llegada, desagregado por cada aeropuerto de salida, utilizando la función pivot(). </p>\n",
    "</div>"
   ]
  },
  {
   "cell_type": "code",
   "execution_count": 24,
   "metadata": {},
   "outputs": [
    {
     "name": "stdout",
     "output_type": "stream",
     "text": [
      "+---------+------------------+------------------+\n",
      "|DayOfWeek|       avgArrDelay|       avgDepDelay|\n",
      "+---------+------------------+------------------+\n",
      "|        5|4.9736884726946125|10.629108825829475|\n",
      "|        1| 4.650733550708921|  9.92399102152194|\n",
      "|        7| 3.376523577923451|  9.55569329369848|\n",
      "|        4| 3.282345946624618|  9.07592391404423|\n",
      "|        3|3.0552590860507562|  8.66911996797364|\n",
      "|        2|2.3225243088655865| 8.165943881432788|\n",
      "|        6| -0.73224717730458| 6.463834181004942|\n",
      "+---------+------------------+------------------+\n",
      "\n"
     ]
    }
   ],
   "source": [
    "aux = cleanFlightsDF.groupby(F.col(\"DayOfWeek\"))\\\n",
    "                .agg(F.mean(\"ArrDelay\").alias(\"avgArrDelay\"), F.mean(\"DepDelay\").alias(\"avgDepDelay\"))\\\n",
    "                .sort(F.col(\"avgArrDelay\").desc()) \n",
    "\n",
    "aux.show()"
   ]
  },
  {
   "cell_type": "code",
   "execution_count": 31,
   "metadata": {},
   "outputs": [
    {
     "data": {
      "text/html": [
       "<div>\n",
       "<style scoped>\n",
       "    .dataframe tbody tr th:only-of-type {\n",
       "        vertical-align: middle;\n",
       "    }\n",
       "\n",
       "    .dataframe tbody tr th {\n",
       "        vertical-align: top;\n",
       "    }\n",
       "\n",
       "    .dataframe thead th {\n",
       "        text-align: right;\n",
       "    }\n",
       "</style>\n",
       "<table border=\"1\" class=\"dataframe\">\n",
       "  <thead>\n",
       "    <tr style=\"text-align: right;\">\n",
       "      <th></th>\n",
       "      <th>Origin</th>\n",
       "      <th>1</th>\n",
       "      <th>2</th>\n",
       "      <th>3</th>\n",
       "      <th>4</th>\n",
       "      <th>5</th>\n",
       "      <th>6</th>\n",
       "      <th>7</th>\n",
       "    </tr>\n",
       "  </thead>\n",
       "  <tbody>\n",
       "    <tr>\n",
       "      <th>0</th>\n",
       "      <td>YUM</td>\n",
       "      <td>-9.019231</td>\n",
       "      <td>-10.608696</td>\n",
       "      <td>-0.384615</td>\n",
       "      <td>-5.333333</td>\n",
       "      <td>-9.769231</td>\n",
       "      <td>-11.924528</td>\n",
       "      <td>-11.395833</td>\n",
       "    </tr>\n",
       "    <tr>\n",
       "      <th>1</th>\n",
       "      <td>YNG</td>\n",
       "      <td>9.000000</td>\n",
       "      <td>NaN</td>\n",
       "      <td>NaN</td>\n",
       "      <td>141.000000</td>\n",
       "      <td>NaN</td>\n",
       "      <td>NaN</td>\n",
       "      <td>NaN</td>\n",
       "    </tr>\n",
       "    <tr>\n",
       "      <th>2</th>\n",
       "      <td>YKM</td>\n",
       "      <td>-1.022222</td>\n",
       "      <td>-0.790698</td>\n",
       "      <td>6.111111</td>\n",
       "      <td>-0.187500</td>\n",
       "      <td>1.595745</td>\n",
       "      <td>0.153846</td>\n",
       "      <td>1.279070</td>\n",
       "    </tr>\n",
       "    <tr>\n",
       "      <th>3</th>\n",
       "      <td>YAK</td>\n",
       "      <td>-8.809524</td>\n",
       "      <td>-14.280000</td>\n",
       "      <td>-13.120000</td>\n",
       "      <td>6.840000</td>\n",
       "      <td>-18.576923</td>\n",
       "      <td>-17.807692</td>\n",
       "      <td>-12.565217</td>\n",
       "    </tr>\n",
       "    <tr>\n",
       "      <th>4</th>\n",
       "      <td>XNA</td>\n",
       "      <td>11.036585</td>\n",
       "      <td>10.719917</td>\n",
       "      <td>7.234568</td>\n",
       "      <td>3.889749</td>\n",
       "      <td>4.563601</td>\n",
       "      <td>-1.344961</td>\n",
       "      <td>6.665860</td>\n",
       "    </tr>\n",
       "    <tr>\n",
       "      <th>...</th>\n",
       "      <td>...</td>\n",
       "      <td>...</td>\n",
       "      <td>...</td>\n",
       "      <td>...</td>\n",
       "      <td>...</td>\n",
       "      <td>...</td>\n",
       "      <td>...</td>\n",
       "      <td>...</td>\n",
       "    </tr>\n",
       "    <tr>\n",
       "      <th>348</th>\n",
       "      <td>ABY</td>\n",
       "      <td>18.078947</td>\n",
       "      <td>4.942857</td>\n",
       "      <td>19.558824</td>\n",
       "      <td>15.472222</td>\n",
       "      <td>13.263158</td>\n",
       "      <td>40.125000</td>\n",
       "      <td>33.812500</td>\n",
       "    </tr>\n",
       "    <tr>\n",
       "      <th>349</th>\n",
       "      <td>ABR</td>\n",
       "      <td>13.840000</td>\n",
       "      <td>11.416667</td>\n",
       "      <td>8.346154</td>\n",
       "      <td>22.961538</td>\n",
       "      <td>14.653846</td>\n",
       "      <td>3.840000</td>\n",
       "      <td>4.750000</td>\n",
       "    </tr>\n",
       "    <tr>\n",
       "      <th>350</th>\n",
       "      <td>ABQ</td>\n",
       "      <td>2.146394</td>\n",
       "      <td>-0.114512</td>\n",
       "      <td>0.872054</td>\n",
       "      <td>0.125395</td>\n",
       "      <td>-1.700319</td>\n",
       "      <td>-4.079787</td>\n",
       "      <td>0.992727</td>\n",
       "    </tr>\n",
       "    <tr>\n",
       "      <th>351</th>\n",
       "      <td>ABI</td>\n",
       "      <td>13.591549</td>\n",
       "      <td>22.238095</td>\n",
       "      <td>1.116667</td>\n",
       "      <td>1.434783</td>\n",
       "      <td>5.100000</td>\n",
       "      <td>8.266667</td>\n",
       "      <td>4.307692</td>\n",
       "    </tr>\n",
       "    <tr>\n",
       "      <th>352</th>\n",
       "      <td>ABE</td>\n",
       "      <td>13.182320</td>\n",
       "      <td>18.834395</td>\n",
       "      <td>18.222222</td>\n",
       "      <td>8.297753</td>\n",
       "      <td>20.448864</td>\n",
       "      <td>6.106667</td>\n",
       "      <td>11.371622</td>\n",
       "    </tr>\n",
       "  </tbody>\n",
       "</table>\n",
       "<p>353 rows × 8 columns</p>\n",
       "</div>"
      ],
      "text/plain": [
       "    Origin          1          2          3           4          5          6  \\\n",
       "0      YUM  -9.019231 -10.608696  -0.384615   -5.333333  -9.769231 -11.924528   \n",
       "1      YNG   9.000000        NaN        NaN  141.000000        NaN        NaN   \n",
       "2      YKM  -1.022222  -0.790698   6.111111   -0.187500   1.595745   0.153846   \n",
       "3      YAK  -8.809524 -14.280000 -13.120000    6.840000 -18.576923 -17.807692   \n",
       "4      XNA  11.036585  10.719917   7.234568    3.889749   4.563601  -1.344961   \n",
       "..     ...        ...        ...        ...         ...        ...        ...   \n",
       "348    ABY  18.078947   4.942857  19.558824   15.472222  13.263158  40.125000   \n",
       "349    ABR  13.840000  11.416667   8.346154   22.961538  14.653846   3.840000   \n",
       "350    ABQ   2.146394  -0.114512   0.872054    0.125395  -1.700319  -4.079787   \n",
       "351    ABI  13.591549  22.238095   1.116667    1.434783   5.100000   8.266667   \n",
       "352    ABE  13.182320  18.834395  18.222222    8.297753  20.448864   6.106667   \n",
       "\n",
       "             7  \n",
       "0   -11.395833  \n",
       "1          NaN  \n",
       "2     1.279070  \n",
       "3   -12.565217  \n",
       "4     6.665860  \n",
       "..         ...  \n",
       "348  33.812500  \n",
       "349   4.750000  \n",
       "350   0.992727  \n",
       "351   4.307692  \n",
       "352  11.371622  \n",
       "\n",
       "[353 rows x 8 columns]"
      ]
     },
     "execution_count": 31,
     "metadata": {},
     "output_type": "execute_result"
    }
   ],
   "source": [
    "aux = cleanFlightsDF.groupby(\"Origin\").pivot(\"DayOfWeek\")\\\n",
    "                .agg(F.mean(\"ArrDelay\").alias(\"avgArrDelay\"))\\\n",
    "                .sort(F.col(\"Origin\").desc()).toPandas()\n",
    "\n",
    "aux"
   ]
  },
  {
   "cell_type": "markdown",
   "metadata": {},
   "source": [
    "<div class=\"alert alert-block alert-info\">\n",
    "<p><b>LA FUNCIÓN PIVOT</b>: Puede ser interesante ver, para cada (Origin, Dest), el retraso promedio por\n",
    "día de la semana. Si agrupamos por esas tres variables (Origin, Dest, DayOfWeek), nuestro resultado tendría demasiadas filas para ser fácil de visualizar (7 x 1009 ya que hay 1009 combinaciones de (Origin, DayOfWeek)). En cambio, vamos a crear 7 columnas, una por día de la semana, en nuestro resultado DF. Lo haremos utilizando una de las variables de agrupación (DayOfWeek) como <i> variable pivot</i>. Como esta variable tiene 7 valores distintos, se crearán 7 columnas nuevas. De esta manera, visualizaremos toda la información de cada combinación (Origen, Dest) condensada en una fila con 7 columnas con los 7 retrasos promedio correspondientes a ese (Origen, Dest) en cada día de la semana.\n",
    "</div>"
   ]
  },
  {
   "cell_type": "markdown",
   "metadata": {},
   "source": [
    "### Operaciones JOIN y de ventana"
   ]
  },
  {
   "cell_type": "markdown",
   "metadata": {},
   "source": [
    "Estaría bien tener el retraso promedio de una ruta junto a cada vuelo, para que podamos ver qué vuelos tuvieron un retraso que fue superior o inferior al retraso promedio de esa ruta."
   ]
  },
  {
   "cell_type": "markdown",
   "metadata": {},
   "source": [
    "<div class=\"alert alert-block alert-success\">\n",
    "    <b> PREGUNTA </b>:\n",
    "Usa el averageDelayOriginDestDF creado anteriormente, elimina la columna de conteo y luego únerlo con cleanFlightsDF, utilizando Origin y Dest como columnas de enlace. Finalmente, selecciona solo las columnas Origin, Dest, DayOfWeek, ArrDelay y avgDelay del resultado.\n",
    "</div>"
   ]
  },
  {
   "cell_type": "code",
   "execution_count": 79,
   "metadata": {},
   "outputs": [
    {
     "name": "stdout",
     "output_type": "stream",
     "text": [
      "+------+----+---------+--------+------------------+\n",
      "|Origin|Dest|DayOfWeek|ArrDelay|          avgDelay|\n",
      "+------+----+---------+--------+------------------+\n",
      "|   ATL| GSP|        3|    -6.0|-1.908791208791209|\n",
      "|   ATL| GSP|        3|    -3.0|-1.908791208791209|\n",
      "|   ATL| GSP|        3|    47.0|-1.908791208791209|\n",
      "|   ATL| GSP|        4|    null|-1.908791208791209|\n",
      "|   ATL| GSP|        4|    -6.0|-1.908791208791209|\n",
      "|   ATL| GSP|        4|    38.0|-1.908791208791209|\n",
      "|   ATL| GSP|        1|   -13.0|-1.908791208791209|\n",
      "|   ATL| GSP|        1|   -15.0|-1.908791208791209|\n",
      "|   ATL| GSP|        1|    10.0|-1.908791208791209|\n",
      "|   ATL| GSP|        5|    -6.0|-1.908791208791209|\n",
      "|   ATL| GSP|        5|    -3.0|-1.908791208791209|\n",
      "|   ATL| GSP|        5|   -14.0|-1.908791208791209|\n",
      "|   ATL| GSP|        1|    10.0|-1.908791208791209|\n",
      "|   ATL| GSP|        1|    14.0|-1.908791208791209|\n",
      "|   ATL| GSP|        1|    -3.0|-1.908791208791209|\n",
      "|   ATL| GSP|        2|   -22.0|-1.908791208791209|\n",
      "|   ATL| GSP|        2|    -9.0|-1.908791208791209|\n",
      "|   ATL| GSP|        2|    -9.0|-1.908791208791209|\n",
      "|   ATL| GSP|        7|   -16.0|-1.908791208791209|\n",
      "|   ATL| GSP|        7|    25.0|-1.908791208791209|\n",
      "+------+----+---------+--------+------------------+\n",
      "only showing top 20 rows\n",
      "\n"
     ]
    }
   ],
   "source": [
    "averageDelayOriginDestDF = cleanFlightsDF.groupby(F.col(\"Origin\"),F.col(\"Dest\"))\\\n",
    "                .agg(F.mean(\"ArrDelay\").alias(\"avgDelay\"))\\\n",
    "                .sort(F.col(\"avgDelay\").desc()) \n",
    "\n",
    "aux= averageDelayOriginDestDF.join(cleanFlightsDF,\\\n",
    "                                   on =(averageDelayOriginDestDF[\"Origin\"] == cleanFlightsDF[\"Origin\"]) &\\\n",
    "                                        (averageDelayOriginDestDF[\"Dest\"] == cleanFlightsDF[\"Dest\"]))\\\n",
    "                        .select(averageDelayOriginDestDF[\"Origin\"],\\\n",
    "                        averageDelayOriginDestDF[\"Dest\"], \"DayOfWeek\", \"ArrDelay\", \"avgDelay\").show()\n",
    "aux"
   ]
  },
  {
   "cell_type": "code",
   "execution_count": 37,
   "metadata": {},
   "outputs": [
    {
     "name": "stdout",
     "output_type": "stream",
     "text": [
      "+------+----+---------+--------+------------------+\n",
      "|Origin|Dest|DayOfWeek|ArrDelay|          avgDelay|\n",
      "+------+----+---------+--------+------------------+\n",
      "|   ATL| GSP|        3|    -6.0|-1.908791208791209|\n",
      "|   ATL| GSP|        3|    -3.0|-1.908791208791209|\n",
      "|   ATL| GSP|        3|    47.0|-1.908791208791209|\n",
      "|   ATL| GSP|        4|    null|-1.908791208791209|\n",
      "|   ATL| GSP|        4|    -6.0|-1.908791208791209|\n",
      "|   ATL| GSP|        4|    38.0|-1.908791208791209|\n",
      "|   ATL| GSP|        1|   -13.0|-1.908791208791209|\n",
      "|   ATL| GSP|        1|   -15.0|-1.908791208791209|\n",
      "|   ATL| GSP|        1|    10.0|-1.908791208791209|\n",
      "|   ATL| GSP|        5|    -6.0|-1.908791208791209|\n",
      "|   ATL| GSP|        5|    -3.0|-1.908791208791209|\n",
      "|   ATL| GSP|        5|   -14.0|-1.908791208791209|\n",
      "|   ATL| GSP|        1|    10.0|-1.908791208791209|\n",
      "|   ATL| GSP|        1|    14.0|-1.908791208791209|\n",
      "|   ATL| GSP|        1|    -3.0|-1.908791208791209|\n",
      "|   ATL| GSP|        2|   -22.0|-1.908791208791209|\n",
      "|   ATL| GSP|        2|    -9.0|-1.908791208791209|\n",
      "|   ATL| GSP|        2|    -9.0|-1.908791208791209|\n",
      "|   ATL| GSP|        7|   -16.0|-1.908791208791209|\n",
      "|   ATL| GSP|        7|    25.0|-1.908791208791209|\n",
      "+------+----+---------+--------+------------------+\n",
      "only showing top 20 rows\n",
      "\n"
     ]
    }
   ],
   "source": [
    "averageDelayOriginDestDF = cleanFlightsDF.groupBy(\"Origin\", \"Dest\")\\\n",
    "                                         .agg(F.mean(\"ArrDelay\").alias(\"avgDelay\"))\n",
    "\n",
    "joinedDF = cleanFlightsDF.join(averageDelayOriginDestDF, \n",
    "                               on = [\"Origin\", \"Dest\"], \n",
    "                               how = \"left_outer\")\\\n",
    "                         .select(\"Origin\", \"Dest\", \"DayOfWeek\", \"ArrDelay\", \"avgDelay\")\n",
    "\n",
    "joinedDF.show()"
   ]
  },
  {
   "cell_type": "markdown",
   "metadata": {},
   "source": [
    "<div class=\"alert alert-block alert-info\">\n",
    "    <p><b>BONUS (OPCIONAL)</b>: crear una nueva columna <i>belowAverage</i> que tenga valor True si ArrDelay es menor que el avgDelay de esa ruta, y False en caso contrario. No utilizar la función when() sino el operador de comparación directamente entre columnas, la cual devolverá una columna booleana.\n",
    "</div>"
   ]
  },
  {
   "cell_type": "code",
   "execution_count": 44,
   "metadata": {},
   "outputs": [
    {
     "name": "stdout",
     "output_type": "stream",
     "text": [
      "+------+----+---------+--------+------------------+------------+\n",
      "|Origin|Dest|DayOfWeek|ArrDelay|          avgDelay|belowAverage|\n",
      "+------+----+---------+--------+------------------+------------+\n",
      "|   ATL| GSP|        3|    -6.0|-1.908791208791209|        true|\n",
      "|   ATL| GSP|        3|    -3.0|-1.908791208791209|        true|\n",
      "|   ATL| GSP|        3|    47.0|-1.908791208791209|       false|\n",
      "|   ATL| GSP|        4|    null|-1.908791208791209|        null|\n",
      "|   ATL| GSP|        4|    -6.0|-1.908791208791209|        true|\n",
      "|   ATL| GSP|        4|    38.0|-1.908791208791209|       false|\n",
      "|   ATL| GSP|        1|   -13.0|-1.908791208791209|        true|\n",
      "|   ATL| GSP|        1|   -15.0|-1.908791208791209|        true|\n",
      "|   ATL| GSP|        1|    10.0|-1.908791208791209|       false|\n",
      "|   ATL| GSP|        5|    -6.0|-1.908791208791209|        true|\n",
      "+------+----+---------+--------+------------------+------------+\n",
      "only showing top 10 rows\n",
      "\n"
     ]
    }
   ],
   "source": [
    "\n",
    "aux.show(10)"
   ]
  },
  {
   "cell_type": "markdown",
   "metadata": {},
   "source": [
    "**PREGUNTA**: repetir la operación utilizando funciones de ventana, sin usar `join`."
   ]
  },
  {
   "cell_type": "markdown",
   "metadata": {},
   "source": [
    "<div class=\"alert alert-block alert-success\">\n",
    "<b> PREGUNTA </b>: Vamos a construir otro DF con información sobre los aeropuertos (en una situación real, tendríamos otra tabla en la base de datos como la tabla de la entidad Aeropuerto). Sin embargo, solo tenemos información sobre algunos aeropuertos. Nos gustaría agregar esta información a cleanFlightsDF como nuevas columnas, teniendo en cuenta que queremos que la información del aeropuerto coincida con el aeropuerto de origen de flightsDF. Utilizar la operación de unión adecuada para asegurarse de que no se perderá ninguna de las filas existentes de cleanFlightsDF después de la unión.\n",
    "</div>"
   ]
  },
  {
   "cell_type": "code",
   "execution_count": 45,
   "metadata": {},
   "outputs": [],
   "source": [
    "airportsDF = spark.createDataFrame([\n",
    "    (\"JFK\", \"John F. Kennedy International Airport\", 1948),\n",
    "    (\"LIT\", \"Little Rock National Airport\", 1931),\n",
    "    (\"SEA\", \"Seattle-Tacoma International Airport\", 1949),\n",
    "], [\"IATA\", \"FullName\", \"Year\"])"
   ]
  },
  {
   "cell_type": "code",
   "execution_count": 52,
   "metadata": {},
   "outputs": [
    {
     "name": "stdout",
     "output_type": "stream",
     "text": [
      "+------+----+----+--------------------+----+\n",
      "|Origin|Dest|IATA|            FullName|Year|\n",
      "+------+----+----+--------------------+----+\n",
      "|   SEA| JFK| SEA|Seattle-Tacoma In...|1949|\n",
      "|   SEA| LGB| SEA|Seattle-Tacoma In...|1949|\n",
      "|   SEA| BOS| SEA|Seattle-Tacoma In...|1949|\n",
      "|   SEA| BOS| SEA|Seattle-Tacoma In...|1949|\n",
      "|   SEA| LGB| SEA|Seattle-Tacoma In...|1949|\n",
      "|   SEA| JFK| SEA|Seattle-Tacoma In...|1949|\n",
      "|   SEA| LGB| SEA|Seattle-Tacoma In...|1949|\n",
      "|   SEA| BOS| SEA|Seattle-Tacoma In...|1949|\n",
      "|   SEA| BOS| SEA|Seattle-Tacoma In...|1949|\n",
      "|   SEA| LGB| SEA|Seattle-Tacoma In...|1949|\n",
      "|   SEA| JFK| SEA|Seattle-Tacoma In...|1949|\n",
      "|   SEA| LGB| SEA|Seattle-Tacoma In...|1949|\n",
      "|   SEA| BOS| SEA|Seattle-Tacoma In...|1949|\n",
      "|   SEA| BOS| SEA|Seattle-Tacoma In...|1949|\n",
      "|   SEA| LGB| SEA|Seattle-Tacoma In...|1949|\n",
      "|   SEA| JFK| SEA|Seattle-Tacoma In...|1949|\n",
      "|   SEA| LGB| SEA|Seattle-Tacoma In...|1949|\n",
      "|   SEA| BOS| SEA|Seattle-Tacoma In...|1949|\n",
      "|   SEA| BOS| SEA|Seattle-Tacoma In...|1949|\n",
      "|   SEA| LGB| SEA|Seattle-Tacoma In...|1949|\n",
      "+------+----+----+--------------------+----+\n",
      "only showing top 20 rows\n",
      "\n"
     ]
    }
   ],
   "source": [
    "joinedFlightsDF = cleanFlightsDF.join(airportsDF, on = cleanFlightsDF.Origin == airportsDF.IATA)\n",
    "\n",
    "# PREGUNTA: mostrar algunas filas donde FullName no sea null\n",
    "joinedFlightsDF.filter(~(F.col(\"FullName\").isNull()))\\\n",
    "               .select(\"Origin\", \"Dest\", \"IATA\", \"FullName\", \"Year\").show()"
   ]
  },
  {
   "cell_type": "markdown",
   "metadata": {},
   "source": [
    "## User-defined functions (UDFs)"
   ]
  },
  {
   "cell_type": "markdown",
   "metadata": {},
   "source": [
    "Vamos a construir un UDF para convertir millas a kilómetros. Ten en cuenta que esto podría hacerse fácilmente multiplicando directamente la columna de millas por 1.6 (y sería mucho más eficiente), ya que Spark permite el producto entre una columna y un número. En todos los casos en los que Spark proporciona funciones integradas para realizar una tarea (como esta), debes usar esas funciones y no una UDF. Las UDF deben emplearse solo cuando no hay otra opción.\n",
    "\n",
    "La razón es que las funciones integradas de Spark están optimizadas y Catalyst, el optimizador automático de código integrado en Spark, puede optimizarlo aún más. Sin embargo, las UDF son una caja negra para Catalyst y su contenido no se optimizará, y por lo tanto, generalmente son mucho más lentas."
   ]
  },
  {
   "cell_type": "code",
   "execution_count": 70,
   "metadata": {},
   "outputs": [
    {
     "name": "stdout",
     "output_type": "stream",
     "text": [
      "8.0\n",
      "+------+----+--------+------------------+\n",
      "|Origin|Dest|Distance|            DistKM|\n",
      "+------+----+--------+------------------+\n",
      "|   CLE| JFK|   425.0|             680.0|\n",
      "|   MCO| PSE|  1179.0|            1886.4|\n",
      "|   FLL| DTW|  1127.0|            1803.2|\n",
      "|   LAX| MTJ|   666.0|1065.6000000000001|\n",
      "|   AZA| MLI|  1288.0|            2060.8|\n",
      "|   CVG| MSY|   701.0|1121.6000000000001|\n",
      "|   MFR| LAX|   630.0|            1008.0|\n",
      "|   PVD| PIE|  1145.0|            1832.0|\n",
      "|   FLL| ORF|   781.0|1249.6000000000001|\n",
      "|   FAT| SFO|   158.0|             252.8|\n",
      "+------+----+--------+------------------+\n",
      "only showing top 10 rows\n",
      "\n"
     ]
    }
   ],
   "source": [
    "from pyspark.sql.functions import udf\n",
    "from pyspark.sql.types import DoubleType\n",
    "\n",
    "# Primer paso: crear una función de Python que reciba UN número y lo multiplique por 1.6\n",
    "def milesToKm(miles):\n",
    "    return miles*1.6\n",
    "\n",
    "# Vamos a probarla\n",
    "print(milesToKm(5)) # 5 millas a km: 8 km\n",
    "\n",
    "# Segundo paso: crear un objeto UDF que envuelva a nuestra función. \n",
    "# Hay que especificar el tipo de dato que devuelve nuestra función\n",
    "udfMilesToKm = F.udf(milesToKm, DoubleType())\n",
    "\n",
    "# Con esto, Spark será capaz de llamar a nuestra función milesToKm sobre cada uno de los valores de una columna numérica.\n",
    "# Spark enviará el código de nuestra función a los executors a través de la red, y cada executor la ejecutará sobre las\n",
    "# particiones (una por una) que estén en ese executor\n",
    "\n",
    "# Tercer paso: vamos a probar la UDF añadiendo una nueva columna con el resultado de la conversión\n",
    "\n",
    "cleanFlightsDF2 = cleanFlightsDF.withColumn(\"Distance\", F.col(\"Distance\").cast(DoubleType()))\\\n",
    "                                        .filter(F.col(\"Distance\").isNotNull())\n",
    "\n",
    "flightsWithKm = cleanFlightsDF2.withColumn(\"DistKm\", udfMilesToKm(F.col(\"Distance\")))\n",
    "\n",
    "flightsWithKm.select(\"Origin\", \"Dest\", \"Distance\", \"DistKM\").distinct().show(10)"
   ]
  },
  {
   "cell_type": "markdown",
   "metadata": {},
   "source": [
    "<div class=\"alert alert-block alert-info\">\n",
    "<p><b>BONUS</b>: Crea tu propia UDF que convierta DayOfWeek en una cadena.\n",
    "Puedes hacerlo creando una función de Python que reciba un número entero y devuelva el día de la semana,\n",
    "simplemente leyendo desde un vector de cadenas de longitud 7 el valor en la posición indicada por el argumento entero. Para la UDF, recuerda que tu función devuelve un StringType(). Finalmente, prueba tu UDF creando una nueva columna \"DayOfWeekString\".\n",
    "</div>"
   ]
  },
  {
   "cell_type": "code",
   "execution_count": 74,
   "metadata": {},
   "outputs": [
    {
     "name": "stdout",
     "output_type": "stream",
     "text": [
      "+------+----+---------+---------------+\n",
      "|Origin|Dest|DayOfWeek|DayOfWeekString|\n",
      "+------+----+---------+---------------+\n",
      "|   BQK| ATL|        4|       Thursday|\n",
      "|   CVG| PHL|        3|      Wednesday|\n",
      "|   DTW| DFW|        5|         Friday|\n",
      "|   SEA| JFK|        2|        Tuesday|\n",
      "|   JAX| JFK|        2|        Tuesday|\n",
      "|   RDU| BOS|        3|      Wednesday|\n",
      "|   SEA| BOS|        3|      Wednesday|\n",
      "|   AUS| FLL|        3|      Wednesday|\n",
      "|   JFK| LAS|        5|         Friday|\n",
      "|   SLC| BOS|        6|       Saturday|\n",
      "|   BOS| HOU|        6|       Saturday|\n",
      "|   BDL| MCO|        7|         Sunday|\n",
      "|   SJU| TPA|        7|         Sunday|\n",
      "|   PGD| TYS|        6|       Saturday|\n",
      "|   PIE| CVG|        6|       Saturday|\n",
      "|   ABE| SFB|        7|         Sunday|\n",
      "|   LAS| BIS|        7|         Sunday|\n",
      "|   ROC| PGD|        1|         Monday|\n",
      "|   EWR| CVG|        1|         Monday|\n",
      "|   CVG| SFB|        1|         Monday|\n",
      "+------+----+---------+---------------+\n",
      "only showing top 20 rows\n",
      "\n"
     ]
    }
   ],
   "source": [
    "from pyspark.sql.types import StringType\n",
    "\n",
    "# Primer paso: creamos una función de python que convierte un número entero en el día de la semana como cadena\n",
    "def dayOfWeekToString(dayInteger):\n",
    "    # En nuestros datos Monday es 1 pero las listas de python empiezan en el 0 y \n",
    "    # queremos usar el dayInteger como índice del vector\n",
    "    daysOfWeek = [\"\", \"Monday\", \"Tuesday\", \"Wednesday\", \"Thursday\", \"Friday\", \"Saturday\", \"Sunday\"]\n",
    "    return daysOfWeek[dayInteger]\n",
    "    \n",
    "# Segundo paso: ajustamos nuestra función con un Spark UDF para que Spark pueda invocarlo en cada valor de una columna completa\n",
    "# De esta manera, Spark puede enviar nuestra función a los ejecutores, que eventualmente ejecutarán la función en las particiones\n",
    "# de los datos que tiene cada ejecutor\n",
    "dayOfWeekStringUDF = F.udf(dayOfWeekToString, StringType())\n",
    "\n",
    "# Tercer paso: intentemos nuestro UDF agregando una nueva columna que resulta de transformar (a través del UDF) el\n",
    "# columna existente DayOfWeek\n",
    "flightsWithDayOfWeekStr = cleanFlightsDF.withColumn(\"DayOfWeekString\", dayOfWeekStringUDF(F.col(\"DayOfWeek\")))\n",
    "\n",
    "flightsWithDayOfWeekStr.select(\"Origin\", \"Dest\", \"DayOfWeek\", \"DayOfWeekString\")\\\n",
    "                       .distinct()\\\n",
    "                       .show()"
   ]
  }
 ],
 "metadata": {
  "kernelspec": {
   "display_name": "Python 3 (ipykernel)",
   "language": "python",
   "name": "python3"
  },
  "language_info": {
   "codemirror_mode": {
    "name": "ipython",
    "version": 3
   },
   "file_extension": ".py",
   "mimetype": "text/x-python",
   "name": "python",
   "nbconvert_exporter": "python",
   "pygments_lexer": "ipython3",
   "version": "3.9.7"
  }
 },
 "nbformat": 4,
 "nbformat_minor": 4
}
