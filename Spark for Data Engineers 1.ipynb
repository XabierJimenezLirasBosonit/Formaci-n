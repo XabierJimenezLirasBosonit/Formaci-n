{
 "cells": [
  {
   "cell_type": "markdown",
   "id": "f560a186-23c4-4152-b8b4-dab9373d3966",
   "metadata": {},
   "source": [
    "# **Reto I**"
   ]
  },
  {
   "cell_type": "markdown",
   "id": "2e83c93b-57ee-44e3-8bea-163bd4cd3ffd",
   "metadata": {},
   "source": [
    "### 1. Datasets\n",
    "\n",
    "Los datos de origen constan de dos archivos csv con la misma estructura y tipo de columnas.\n",
    "\n",
    "* trade_details: dataset original con datos reales de operaciones financieras.\n",
    "* trade_details_snapshot: copia de seguridad por posibles perdidas de datos.\n",
    "\n",
    "### 2. Columnas y significado:\n",
    "\n",
    "* mfamily: indica la familia de operaciones a la que pertenece.\n",
    "* mgroup: indica el grupo de operaciones dentro de la familia.\n",
    "* mtype: indica el tipo de operación dentro del grupo.\n",
    "* origin_trade_number: indica el número de la operación de trading (la misma operación puede tener varios números de trading).\n",
    "* origin_contract_number: indica el número de contrato de la operación (igual para todas las operaciones que pertenecen al mismo contrato).\n",
    "* maturity: fecha de finalización del contrato de cada operación.\n",
    "\n",
    "### 3. Descripción del problema:\n",
    "\n",
    "En estos datasets se encuentran varias operaciones financieras de distinto tipo, que diferenciaremos mediante los distintos valores de las columnas mfamily, mgroup y mtype.\n",
    "\n",
    "Existe un cierto tipo de operaciones especiales, llamadas FXSwaps. Estas pueden ser diferenciadas por medio de los siguientes valores:\n",
    "\n",
    "**mfamily = CURR** \\\n",
    "**mgroup = FXD** \\\n",
    "**mtype = SWLEG**\n",
    "\n",
    "Podemos ver en nuestro dataset que estas operaciones aparecen duplicadas, es decir, con el mismo **origin_contract_number** aunque distinto **origin_trade_number**. De estas operaciones duplicadas en origen, queremos obtener solo una de ellas.\n",
    "\n",
    "La forma para decidir cuál de las operaciones nos interesa obtener es mediante la columna *maturity*. De ambas operaciones de trading (distinto origin_trade_number) para un mismo contrato (origin_contract_number), queremos obtener solo la *long leg*, es decir, la que tiene una mayor fecha de vencimiento (fecha más actual de la columna maturity).\n",
    "\n",
    "Existe un cierto problema en nuestro dataset trade_details que tendremos que solucionar. Podemos ver que para algunas operaciones el campo maturity vendrá como *null*, es decir, sin informar. En estos casos, deberemos buscar esa operacion en el dataset trade_details_snapshot y el respectivo campo maturity para poder saber cuál de las dos operaciones es la *long leg* y filtrar la *short leg* \n",
    "\n",
    "**NOTA: Si se quiere conocer más el significado de estas operaciones financieras: https://es.wikipedia.org/wiki/Swap_(finanzas)**\n",
    "\n",
    "### 4. Reto:\n",
    "\n",
    "* Obtener un dataframe final donde tengamos todas las operaciones originales excepto los short leg de los contratos tipo FXSwap.\n",
    "* Aunque usemos el valor de la columna maturity del dataset trade_details_snapshot en los casos que venga en la trade_details a *null*, en el dataframe final deberá venir con el valor original de trade_details.\n",
    "* Hacerlo de la manera más eficiente posible a nivel computacional."
   ]
  },
  {
   "cell_type": "markdown",
   "id": "78b53f96-7b68-4b33-a20b-84fd8dbd0e1a",
   "metadata": {},
   "source": [
    "### Inicialización de SparkSession:"
   ]
  },
  {
   "cell_type": "code",
   "execution_count": 1,
   "id": "a5da8fad-c1ee-42ad-88ba-1c6587e6de5f",
   "metadata": {},
   "outputs": [
    {
     "data": {
      "text/plain": [
       "Intitializing Scala interpreter ..."
      ]
     },
     "metadata": {},
     "output_type": "display_data"
    },
    {
     "data": {
      "text/plain": [
       "Spark Web UI available at http://L2110017.bosonit.local:4040\n",
       "SparkContext available as 'sc' (version = 3.1.2, master = local[*], app id = local-1641542631138)\n",
       "SparkSession available as 'spark'\n"
      ]
     },
     "metadata": {},
     "output_type": "display_data"
    },
    {
     "data": {
      "text/plain": [
       "import org.apache.spark.sql.SparkSession\r\n",
       "spark: org.apache.spark.sql.SparkSession = org.apache.spark.sql.SparkSession@6d2d97e3\r\n"
      ]
     },
     "execution_count": 1,
     "metadata": {},
     "output_type": "execute_result"
    }
   ],
   "source": [
    "import org.apache.spark.sql.SparkSession\n",
    "\n",
    "val spark = SparkSession.builder()\n",
    "                        .appName(\"Reto 1\")\n",
    "                        .master(\"local\")\n",
    "                        .getOrCreate()"
   ]
  },
  {
   "cell_type": "markdown",
   "id": "0c747da1-d0a9-4499-9196-dd0ea980cb5b",
   "metadata": {},
   "source": [
    "### Carga de CSV"
   ]
  },
  {
   "cell_type": "code",
   "execution_count": 2,
   "id": "18334cd9-be3c-44e8-a9c3-417030a844e8",
   "metadata": {},
   "outputs": [
    {
     "data": {
      "text/plain": [
       "trade_details: org.apache.spark.sql.DataFrame = [mfamily: string, mgroup: string ... 4 more fields]\r\n",
       "trade_details_snapshot: org.apache.spark.sql.DataFrame = [mfamily: string, mgroup: string ... 4 more fields]\r\n"
      ]
     },
     "execution_count": 2,
     "metadata": {},
     "output_type": "execute_result"
    }
   ],
   "source": [
    "val trade_details = spark.read.format(\"csv\")\n",
    "                              .option(\"header\", \"true\")\n",
    "                              .option(\"delimiter\", \";\")\n",
    "                              .load(\"./reto1/trade_details.csv\")\n",
    "\n",
    "val trade_details_snapshot = spark.read.format(\"csv\")\n",
    "                                       .option(\"header\", \"true\")\n",
    "                                       .option(\"delimiter\", \";\")\n",
    "                                       .load(\"./reto1/trade_details_snapshot.csv\")"
   ]
  },
  {
   "cell_type": "code",
   "execution_count": 3,
   "id": "93dea296-3273-474c-8d3d-01258c14df04",
   "metadata": {},
   "outputs": [
    {
     "name": "stdout",
     "output_type": "stream",
     "text": [
      "+-------+------+-----+----------------------+-----+\n",
      "|mfamily|mgroup|mtype|origin_contract_number|count|\n",
      "+-------+------+-----+----------------------+-----+\n",
      "|   CURR|   FXD|SWLEG|              18622136|    2|\n",
      "|   CURR|   FXD|SWLEG|              18724280|    2|\n",
      "|   CURR|   FXD|SWLEG|              19883451|    2|\n",
      "|   CURR|   FXD|SWLEG|              21622649|    2|\n",
      "|   CURR|   FXD|SWLEG|              19622128|    2|\n",
      "+-------+------+-----+----------------------+-----+\n",
      "\r\n"
     ]
    },
    {
     "data": {
      "text/plain": [
       "a: org.apache.spark.sql.DataFrame = [mfamily: string, mgroup: string ... 3 more fields]\r\n"
      ]
     },
     "execution_count": 3,
     "metadata": {},
     "output_type": "execute_result"
    }
   ],
   "source": [
    "val a =trade_details.select(\"*\").where(col(\"mfamily\") === \"CURR\" && col(\"mgroup\") === \"FXD\" && col(\"mtype\") === \"SWLEG\")\n",
    ".groupBy(\"mfamily\",\"mgroup\",\"mtype\",\"origin_contract_number\").count()\n",
    "a.show()"
   ]
  },
  {
   "cell_type": "code",
   "execution_count": 34,
   "id": "60f3a3aa",
   "metadata": {},
   "outputs": [
    {
     "name": "stdout",
     "output_type": "stream",
     "text": [
      "+-------+------+-----+----------------------+----+\n",
      "|mfamily|mgroup|mtype|origin_contract_number|   a|\n",
      "+-------+------+-----+----------------------+----+\n",
      "|    IRD| LN_BR| null|              18176215|   0|\n",
      "|    IRD|   IRS| null|              17356077|   0|\n",
      "|    IRD|   IRS| null|               2222222|   0|\n",
      "|    IRD| LN_BR| null|                  2222|   0|\n",
      "|    IRD|    CF| null|              19453781|   0|\n",
      "|    IRD|   IRS| null|             556111214|null|\n",
      "|    IRD|   IRS| null|             222333111|   0|\n",
      "|    IRD|   IRS| null|             111222333|   0|\n",
      "|    IRD|   IRS| null|             555111222|null|\n",
      "|   CURR|   FXD|SWLEG|              18622136|   0|\n",
      "|    IRD|   IRS| null|             333111222|   0|\n",
      "|   CURR|   FXD|SWLEG|              18724280|null|\n",
      "|    IRD|  BOND|  FWD|              10000009|   0|\n",
      "|    IRD|    CF| null|              19433281|   0|\n",
      "|    IRD|   IRS| null|              20077630|   0|\n",
      "|    IRD|   IRS| null|             564367838|   0|\n",
      "|   CURR|   FXD|SWLEG|              19883451|null|\n",
      "|   CURR|   FXD|SWLEG|              21622649|null|\n",
      "|   CURR|   FXD|  FXD|              54853428|   0|\n",
      "|    EQD| EQUIT|  FWD|              10000001|   0|\n",
      "+-------+------+-----+----------------------+----+\n",
      "only showing top 20 rows\n",
      "\r\n"
     ]
    },
    {
     "data": {
      "text/plain": [
       "a: org.apache.spark.sql.DataFrame = [mfamily: string, mgroup: string ... 3 more fields]\r\n"
      ]
     },
     "execution_count": 34,
     "metadata": {},
     "output_type": "execute_result"
    }
   ],
   "source": [
    "val a =trade_details.select(\"*\").groupBy(\"mfamily\",\"mgroup\",\"mtype\",\"origin_contract_number\").agg(max(\"maturity\").alias(\"a\"))\n",
    "                    .withColumn(\"a\",when(col(\"a\").isNull,datediff(col(\"a\"), col(\"a\"))).otherwise(col(\"a\")))\n",
    "a.show()"
   ]
  },
  {
   "cell_type": "code",
   "execution_count": 108,
   "id": "bc2d2aa1",
   "metadata": {},
   "outputs": [
    {
     "name": "stdout",
     "output_type": "stream",
     "text": [
      "+-------+------+-----+----------------------+-------------------+----------+\n",
      "|mfamily|mgroup|mtype|origin_contract_number|origin_trade_number|  maturity|\n",
      "+-------+------+-----+----------------------+-------------------+----------+\n",
      "|    EQD| EQUIT|  FWD|              10000001|           10000001|2019-07-02|\n",
      "|    IRD|  BOND|  FWD|              10000009|           10000009|2021-06-12|\n",
      "|    IRD|   IRS| null|             111222333|          111222333|2024-10-15|\n",
      "|    IRD| LN_BR| null|              13774383|           14596583|2020-12-29|\n",
      "|    IRD|   IRS| null|              17356077|           18343978|2024-10-15|\n",
      "|    IRD| LN_BR| null|              18176215|           19203839|2022-10-06|\n",
      "|   CURR|   FXD|SWLEG|              18622136|           19665185|2020-04-29|\n",
      "|   CURR|   FXD|SWLEG|              18724280|           19772400|2021-11-05|\n",
      "|    IRD|    CF| null|              19433281|           20513130|2021-07-06|\n",
      "|    IRD|    CF| null|              19453781|           20533916|2023-07-06|\n",
      "|   CURR|   FXD|SWLEG|              19622128|           20665177|2020-04-29|\n",
      "|   CURR|   FXD|SWLEG|              19883451|           20980932|      NULL|\n",
      "|    IRD|   IRS| null|              20077630|           21183317|2040-07-13|\n",
      "|   CURR|   FXD|SWLEG|              21622649|           22798005|      NULL|\n",
      "|    IRD| LN_BR| null|                  2222|               1111|2022-10-06|\n",
      "|    IRD|   IRS| null|               2222222|            2222222|2024-10-15|\n",
      "|    IRD|   IRS| null|             222333111|          222333111|2020-12-30|\n",
      "|    IRD|   IRS| null|             333111222|          333111222|2020-12-12|\n",
      "|    IRD|   IRS| null|              33333333|           33333333|2024-10-15|\n",
      "|    SCF|   SCF|  SCF|               3672136|            3815982|      NULL|\n",
      "+-------+------+-----+----------------------+-------------------+----------+\n",
      "only showing top 20 rows\n",
      "\r\n"
     ]
    },
    {
     "data": {
      "text/plain": [
       "resultado: org.apache.spark.sql.DataFrame = [mfamily: string, mgroup: string ... 4 more fields]\r\n"
      ]
     },
     "execution_count": 108,
     "metadata": {},
     "output_type": "execute_result"
    }
   ],
   "source": [
    "val resultado =trade_details.as(\"A\").join(trade_details_snapshot.as(\"B\"),col(\"A.origin_contract_number\") === col(\"B.origin_contract_number\"))\n",
    "                    .groupBy(\"A.mfamily\",\"A.mgroup\",\"A.mtype\",\"A.origin_contract_number\",\"A.origin_trade_number\",\"A.maturity\")\n",
    "                    .agg(max(\"B.maturity\").alias(\"ad\"))\n",
    "                    .orderBy(\"ad\")\n",
    "                    .groupBy(\"A.mfamily\",\"A.mgroup\",\"A.mtype\",\"A.origin_contract_number\")\n",
    "                    .agg(first(\"origin_trade_number\").alias(\"origin_trade_number\"),first(\"maturity\").alias(\"maturity\"))\n",
    "                    \n",
    "                   \n",
    "resultado.orderBy(\"A.origin_contract_number\").show()"
   ]
  },
  {
   "cell_type": "code",
   "execution_count": 96,
   "id": "61ed361a",
   "metadata": {},
   "outputs": [
    {
     "name": "stdout",
     "output_type": "stream",
     "text": [
      "+-------+------+-----+----------------------+-------------------+----------+----------+\n",
      "|mfamily|mgroup|mtype|origin_contract_number|origin_trade_number|  maturity|        ad|\n",
      "+-------+------+-----+----------------------+-------------------+----------+----------+\n",
      "|    EQD| EQUIT|  FWD|              10000001|           10000001|2019-07-02|2019-07-02|\n",
      "|    IRD|  BOND|  FWD|              10000009|           10000009|2021-06-12|2021-06-12|\n",
      "|    IRD|   IRS| null|             111222333|          111222333|2024-10-15|2024-10-15|\n",
      "|    IRD| LN_BR| null|              13774383|           14596583|2020-12-29|2020-12-29|\n",
      "|    IRD|   IRS| null|              17356077|           18343978|2024-10-15|2024-10-15|\n",
      "|    IRD| LN_BR| null|              18176215|           19203839|2022-10-06|2022-10-06|\n",
      "|   CURR|   FXD|SWLEG|              18622136|           19665185|2020-04-29|2020-12-30|\n",
      "|   CURR|   FXD|SWLEG|              18622136|           19665186|2020-12-30|2020-12-30|\n",
      "|   CURR|   FXD|SWLEG|              18724280|           19772399|      NULL|2021-11-05|\n",
      "|   CURR|   FXD|SWLEG|              18724280|           19772400|2021-11-05|2021-11-05|\n",
      "|    IRD|    CF| null|              19433281|           20513130|2021-07-06|2021-07-06|\n",
      "|    IRD|    CF| null|              19453781|           20533916|2023-07-06|2023-07-06|\n",
      "|   CURR|   FXD|SWLEG|              19622128|           20665177|2020-04-29|2020-12-30|\n",
      "|   CURR|   FXD|SWLEG|              19622128|           20665178|2020-12-30|2020-12-30|\n",
      "|   CURR|   FXD|SWLEG|              19883451|           20980932|      NULL|2020-02-02|\n",
      "|   CURR|   FXD|SWLEG|              19883451|           20980933|      NULL|2020-02-02|\n",
      "|    IRD|   IRS| null|              20077630|           21183317|2040-07-13|2040-07-13|\n",
      "|   CURR|   FXD|SWLEG|              21622649|           22798005|      NULL|2021-05-11|\n",
      "|   CURR|   FXD|SWLEG|              21622649|           22798004|      NULL|2021-05-11|\n",
      "|    IRD| LN_BR| null|                  2222|               1111|2022-10-06|2022-10-06|\n",
      "+-------+------+-----+----------------------+-------------------+----------+----------+\n",
      "only showing top 20 rows\n",
      "\r\n"
     ]
    },
    {
     "data": {
      "text/plain": [
       "a: org.apache.spark.sql.DataFrame = [mfamily: string, mgroup: string ... 5 more fields]\r\n"
      ]
     },
     "execution_count": 96,
     "metadata": {},
     "output_type": "execute_result"
    }
   ],
   "source": [
    "val a =trade_details.as(\"A\").join(trade_details_snapshot.as(\"B\"),col(\"A.origin_contract_number\") === col(\"B.origin_contract_number\"))\n",
    "                    .groupBy(\"A.mfamily\",\"A.mgroup\",\"A.mtype\",\"A.origin_contract_number\",\"A.origin_trade_number\",\"A.maturity\")\n",
    "                    .agg(max(\"B.maturity\").alias(\"ad\"))\n",
    "                    .groupBy(\"A.mfamily\",\"A.mgroup\",\"A.mtype\",\"A.origin_contract_number\")\n",
    "                    .agg(max(\"ad\").alias(\"maturity2\"))\n",
    "                    .join(trade_details.as(\"C\"),col(\"A.origin_contract_number\") === col(\"C.origin_contract_number\"))\n",
    "                    .select(\"A.mfamily\",\"A.mgroup\",\"A.mtype\",\"C.origin_contract_number\",\"C.origin_trade_number\",\"C.maturity\")\n",
    "a.orderBy(\"A.origin_contract_number\").show()"
   ]
  },
  {
   "cell_type": "code",
   "execution_count": 22,
   "id": "b7ca95c3",
   "metadata": {},
   "outputs": [
    {
     "name": "stdout",
     "output_type": "stream",
     "text": [
      "+-------+------+-----+----------------------+-------------------+----------+----------+----------+----------+----------+----------+----------+----------+----------+----------+----------+----------+----------+----------+----------+\n",
      "|mfamily|mgroup|mtype|origin_contract_number|origin_trade_number|  maturity|2019-07-02|2020-04-29|2020-12-12|2020-12-29|2020-12-30|2021-06-12|2021-07-06|2021-09-22|2021-11-05|2022-10-06|2023-07-06|2024-10-15|2040-07-13|      NULL|\n",
      "+-------+------+-----+----------------------+-------------------+----------+----------+----------+----------+----------+----------+----------+----------+----------+----------+----------+----------+----------+----------+----------+\n",
      "|    EQD| EQUIT|  FWD|              10000001|           10000001|2019-07-02|2019-07-02|      null|      null|      null|      null|      null|      null|      null|      null|      null|      null|      null|      null|      null|\n",
      "|    IRD|  BOND|  FWD|              10000009|           10000009|2021-06-12|      null|      null|      null|      null|      null|2021-06-12|      null|      null|      null|      null|      null|      null|      null|      null|\n",
      "|    IRD|   IRS| null|             111222333|          111222333|2024-10-15|      null|      null|      null|      null|      null|      null|      null|      null|      null|      null|      null|2024-10-15|      null|      null|\n",
      "|    IRD| LN_BR| null|              13774383|           14596583|2020-12-29|      null|      null|      null|2020-12-29|      null|      null|      null|      null|      null|      null|      null|      null|      null|      null|\n",
      "|    IRD|   IRS| null|              17356077|           18343978|2024-10-15|      null|      null|      null|      null|      null|      null|      null|      null|      null|      null|      null|2024-10-15|      null|      null|\n",
      "|    IRD| LN_BR| null|              18176215|           19203839|2022-10-06|      null|      null|      null|      null|      null|      null|      null|      null|      null|2022-10-06|      null|      null|      null|      null|\n",
      "|   CURR|   FXD|SWLEG|              18622136|           19665185|2020-04-29|      null|2020-12-30|      null|      null|      null|      null|      null|      null|      null|      null|      null|      null|      null|      null|\n",
      "|   CURR|   FXD|SWLEG|              18622136|           19665186|2020-12-30|      null|      null|      null|      null|2020-12-30|      null|      null|      null|      null|      null|      null|      null|      null|      null|\n",
      "|   CURR|   FXD|SWLEG|              18724280|           19772399|      NULL|      null|      null|      null|      null|      null|      null|      null|      null|      null|      null|      null|      null|      null|2021-11-05|\n",
      "|   CURR|   FXD|SWLEG|              18724280|           19772400|2021-11-05|      null|      null|      null|      null|      null|      null|      null|      null|2021-11-05|      null|      null|      null|      null|      null|\n",
      "|    IRD|    CF| null|              19433281|           20513130|2021-07-06|      null|      null|      null|      null|      null|      null|2021-07-06|      null|      null|      null|      null|      null|      null|      null|\n",
      "|    IRD|    CF| null|              19453781|           20533916|2023-07-06|      null|      null|      null|      null|      null|      null|      null|      null|      null|      null|2023-07-06|      null|      null|      null|\n",
      "|   CURR|   FXD|SWLEG|              19622128|           20665177|2020-04-29|      null|2020-12-30|      null|      null|      null|      null|      null|      null|      null|      null|      null|      null|      null|      null|\n",
      "|   CURR|   FXD|SWLEG|              19622128|           20665178|2020-12-30|      null|      null|      null|      null|2020-12-30|      null|      null|      null|      null|      null|      null|      null|      null|      null|\n",
      "|   CURR|   FXD|SWLEG|              19883451|           20980932|      NULL|      null|      null|      null|      null|      null|      null|      null|      null|      null|      null|      null|      null|      null|2020-02-02|\n",
      "|   CURR|   FXD|SWLEG|              19883451|           20980933|      NULL|      null|      null|      null|      null|      null|      null|      null|      null|      null|      null|      null|      null|      null|2020-02-02|\n",
      "|    IRD|   IRS| null|              20077630|           21183317|2040-07-13|      null|      null|      null|      null|      null|      null|      null|      null|      null|      null|      null|      null|2040-07-13|      null|\n",
      "|   CURR|   FXD|SWLEG|              21622649|           22798005|      NULL|      null|      null|      null|      null|      null|      null|      null|      null|      null|      null|      null|      null|      null|2021-05-11|\n",
      "|   CURR|   FXD|SWLEG|              21622649|           22798004|      NULL|      null|      null|      null|      null|      null|      null|      null|      null|      null|      null|      null|      null|      null|2021-05-11|\n",
      "|    IRD| LN_BR| null|                  2222|               1111|2022-10-06|      null|      null|      null|      null|      null|      null|      null|      null|      null|2022-10-06|      null|      null|      null|      null|\n",
      "+-------+------+-----+----------------------+-------------------+----------+----------+----------+----------+----------+----------+----------+----------+----------+----------+----------+----------+----------+----------+----------+\n",
      "only showing top 20 rows\n",
      "\r\n"
     ]
    },
    {
     "data": {
      "text/plain": [
       "a: org.apache.spark.sql.DataFrame = [mfamily: string, mgroup: string ... 18 more fields]\r\n"
      ]
     },
     "execution_count": 22,
     "metadata": {},
     "output_type": "execute_result"
    }
   ],
   "source": [
    "val a =trade_details.as(\"A\").join(trade_details_snapshot.as(\"B\"),col(\"A.origin_contract_number\") === col(\"B.origin_contract_number\"))\n",
    "                    .groupBy(\"A.mfamily\",\"A.mgroup\",\"A.mtype\",\"A.origin_contract_number\",\"A.origin_trade_number\",\"A.maturity\")\n",
    "                    .pivot(\"A.maturity\")\n",
    "                    .agg(max(\"B.maturity\").alias(\"ad\"))\n",
    "a.orderBy(\"A.origin_contract_number\").show()"
   ]
  },
  {
   "cell_type": "code",
   "execution_count": 82,
   "id": "096ad631",
   "metadata": {},
   "outputs": [
    {
     "name": "stdout",
     "output_type": "stream",
     "text": [
      "+-------+------+-----+----------------------+-------------------+----------+\n",
      "|mfamily|mgroup|mtype|origin_contract_number|origin_trade_number|  maturity|\n",
      "+-------+------+-----+----------------------+-------------------+----------+\n",
      "|    EQD| EQUIT|  FWD|              10000001|           10000001|2019-07-02|\n",
      "|   CURR|   FXD|SWLEG|              19622128|           20665177|2020-04-29|\n",
      "|   CURR|   FXD|SWLEG|              18622136|           19665185|2020-04-29|\n",
      "|    IRD|   IRS| null|             333111222|          333111222|2020-12-12|\n",
      "|    IRD| LN_BR| null|              13774383|           14596583|2020-12-29|\n",
      "|   CURR|   FXD|SWLEG|              19622128|           20665178|2020-12-30|\n",
      "|   CURR|   FXD|SWLEG|              18622136|           19665186|2020-12-30|\n",
      "|    IRD|   IRS| null|             222333111|          222333111|2020-12-30|\n",
      "|    IRD|  BOND|  FWD|              10000009|           10000009|2021-06-12|\n",
      "|    IRD|    CF| null|              19433281|           20513130|2021-07-06|\n",
      "|   CURR|   FXD|  FXD|              54853428|           32734782|2021-09-22|\n",
      "|    IRD|  BOND| null|             678876251|          316391872|2021-09-22|\n",
      "|   CURR|   FXD|SWLEG|              18724280|           19772400|2021-11-05|\n",
      "|    IRD| LN_BR| null|              18176215|           19203839|2022-10-06|\n",
      "|    IRD| LN_BR| null|                  2222|               1111|2022-10-06|\n",
      "|    IRD|    CF| null|              19453781|           20533916|2023-07-06|\n",
      "|    IRD|   IRS| null|              33333333|           33333333|2024-10-15|\n",
      "|    IRD|   IRS| null|             564367838|          564367838|2024-10-15|\n",
      "|    IRD|   IRS| null|               2222222|            2222222|2024-10-15|\n",
      "|    IRD|   IRS| null|              17356077|           18343978|2024-10-15|\n",
      "|    IRD|   IRS| null|             111222333|          111222333|2024-10-15|\n",
      "|    IRD|   IRS| null|              20077630|           21183317|2040-07-13|\n",
      "|   CURR|   FXD|SWLEG|              19883451|           20980933|      NULL|\n",
      "|    IRD|   IRS| null|             555111222|          555111222|      NULL|\n",
      "|    SCF|   SCF|  SCF|               3672136|            3815982|      NULL|\n",
      "|   CURR|   FXD|SWLEG|              21622649|           22798005|      NULL|\n",
      "|   CURR|   FXD|SWLEG|              18724280|           19772399|      NULL|\n",
      "|   CURR|   FXD|SWLEG|              19883451|           20980932|      NULL|\n",
      "|    IRD|   IRS| null|             444111222|          444111222|      NULL|\n",
      "|    IRD|   IRS| null|             556111214|          556111214|      NULL|\n",
      "|   CURR|   FXD|SWLEG|              21622649|           22798004|      NULL|\n",
      "+-------+------+-----+----------------------+-------------------+----------+\n",
      "\r\n"
     ]
    },
    {
     "data": {
      "text/plain": [
       "resultado: org.apache.spark.sql.Dataset[org.apache.spark.sql.Row] = [mfamily: string, mgroup: string ... 4 more fields]\r\n"
      ]
     },
     "execution_count": 82,
     "metadata": {},
     "output_type": "execute_result"
    }
   ],
   "source": [
    "val resultado = trade_details.alias(\"fst\").join( trade_details_snapshot.alias(\"snd\"),Seq(\"origin_contract_number\"),\"outer\")\n",
    ".where(col(\"fst.maturity\").isNotNull)\n",
    ".withColumn(\"maturity_noNull\", when(col(\"fst.maturity\") === \"NULL\",col(\"snd.maturity\"))\n",
    ".otherwise(col(\"fst.maturity\")))\n",
    ".withColumn(\"maturity_Null\", when(col(\"fst.maturity\")===\"NULL\",\"NULL\").otherwise(col(\"maturity_noNull\")))\n",
    ".select(\"origin_contract_number\",\"fst.*\",\"maturity_noNull\",\"maturity_Null\")\n",
    ".groupBy(\"mfamily\", \"mgroup\", \"mtype\",\"origin_contract_number\", \"origin_trade_number\")\n",
    ".agg(max(\"maturity_Null\").alias(\"maturity\")).orderBy(\"maturity\")\n",
    ".groupBy(\"mfamily\", \"mgroup\", \"mtype\",\"origin_contract_number\")\n",
    ".agg(first(\"origin_trade_number\").alias(\"origin_trade_number\"),\n",
    "first(\"maturity\").alias(\"maturity\"))\n",
    "\n",
    "resultado.orderBy(\"origin_trade_number\").show(50)"
   ]
  },
  {
   "cell_type": "code",
   "execution_count": 34,
   "id": "9bc45047",
   "metadata": {},
   "outputs": [
    {
     "name": "stdout",
     "output_type": "stream",
     "text": [
      "+-------+------+-----+-------------------+----------------------+----------+-----------------+-----------------+\n",
      "|mfamily|mgroup|mtype|origin_trade_number|origin_contract_number|  maturity|maturity_snapshot|maturity_not_null|\n",
      "+-------+------+-----+-------------------+----------------------+----------+-----------------+-----------------+\n",
      "|    EQD| EQUIT|  FWD|           10000001|              10000001|2019-07-02|             null|       2019-07-02|\n",
      "|    IRD|  BOND|  FWD|           10000009|              10000009|2021-06-12|             null|       2021-06-12|\n",
      "|    IRD| LN_BR| null|               1111|                  2222|2022-10-06|             null|       2022-10-06|\n",
      "|    IRD|   IRS| null|          111222333|             111222333|2024-10-15|             null|       2024-10-15|\n",
      "|    IRD| LN_BR| null|           14596583|              13774383|2020-12-29|             null|       2020-12-29|\n",
      "|    IRD|   IRS| null|           18343978|              17356077|2024-10-15|             null|       2024-10-15|\n",
      "|    IRD| LN_BR| null|           19203839|              18176215|2022-10-06|             null|       2022-10-06|\n",
      "|   CURR|   FXD|SWLEG|           19665185|              18622136|2020-04-29|             null|       2020-04-29|\n",
      "|   CURR|   FXD|SWLEG|           19665186|              18622136|2020-12-30|             null|       2020-12-30|\n",
      "|   CURR|   FXD|SWLEG|           19772399|              18724280|      NULL|       2020-11-05|       2020-11-05|\n",
      "|   CURR|   FXD|SWLEG|           19772400|              18724280|2021-11-05|             null|       2021-11-05|\n",
      "|    IRD|    CF| null|           20513130|              19433281|2021-07-06|             null|       2021-07-06|\n",
      "|    IRD|    CF| null|           20533916|              19453781|2023-07-06|             null|       2023-07-06|\n",
      "|   CURR|   FXD|SWLEG|           20665177|              19622128|2020-04-29|             null|       2020-04-29|\n",
      "|   CURR|   FXD|SWLEG|           20665178|              19622128|2020-12-30|             null|       2020-12-30|\n",
      "|   CURR|   FXD|SWLEG|           20980932|              19883451|      NULL|       2020-02-02|       2020-02-02|\n",
      "|   CURR|   FXD|SWLEG|           20980933|              19883451|      NULL|       2020-01-19|       2020-01-19|\n",
      "|    IRD|   IRS| null|           21183317|              20077630|2040-07-13|             null|       2040-07-13|\n",
      "|    IRD|   IRS| null|            2222222|               2222222|2024-10-15|             null|       2024-10-15|\n",
      "|    IRD|   IRS| null|          222333111|             222333111|2020-12-30|             null|       2020-12-30|\n",
      "+-------+------+-----+-------------------+----------------------+----------+-----------------+-----------------+\n",
      "only showing top 20 rows\n",
      "\r\n"
     ]
    },
    {
     "data": {
      "text/plain": [
       "import org.apache.spark.sql.expressions.Window\r\n",
       "windowP: org.apache.spark.sql.expressions.WindowSpec = org.apache.spark.sql.expressions.WindowSpec@15da8116\r\n",
       "resultado: org.apache.spark.sql.DataFrame = [mfamily: string, mgroup: string ... 6 more fields]\r\n"
      ]
     },
     "execution_count": 34,
     "metadata": {},
     "output_type": "execute_result"
    }
   ],
   "source": [
    "import org.apache.spark.sql.expressions.Window\n",
    "val windowP = Window.partitionBy(\"origin_contract_number\")\n",
    "val resultado = trade_details.join(trade_details_snapshot,when(trade_details(\"maturity\")===\"NULL\",trade_details(\"origin_contract_number\")===trade_details_snapshot(\"origin_contract_number\") && trade_details(\"origin_trade_number\")===trade_details_snapshot(\"origin_trade_number\")),\"left\") //completar valores null\n",
    ".select(trade_details(\"mfamily\"),trade_details(\"mgroup\"),trade_details(\"mtype\"),trade_details(\"origin_trade_number\"),trade_details(\"origin_contract_number\"),trade_details(\"maturity\"),trade_details_snapshot(\"maturity\").alias(\"maturity_snapshot\")) //selecionar los campos del join que interesan (dejando los completados en otra columna)\n",
    ".withColumn(\"maturity_not_null\",when(col(\"maturity\")===\"NULL\",col(\"maturity_snapshot\"))\n",
    ".otherwise(col(\"maturity\"))) //crear columna que una los maturity originales y completados\n",
    ".withColumn(\"maturity_not_null\",when((col(\"maturity_not_null\") === max(\"maturity_not_null\").over(windowP)),col(\"maturity_not_null\"))\n",
    ".otherwise(\"DELETE\")) //si es la long la deja como esta y si es la short la marca para borrarla\n",
    ".filter(!(col(\"maturity_not_null\")===\"DELETE\")) //borrar deletes (shorts)\n",
    ".drop(\"maturity_snapshot\",\"maturity_not_null\") //borrar columnas que sobran\n",
    "\n",
    "resultado.orderBy(\"origin_trade_number\").show()"
   ]
  },
  {
   "cell_type": "markdown",
   "id": "71edae2e-43e8-4b7a-8fdd-eea896cae503",
   "metadata": {},
   "source": [
    "### Resultado:"
   ]
  },
  {
   "cell_type": "markdown",
   "id": "05ab4c7c-65aa-4b54-bd14-7479a67893fa",
   "metadata": {},
   "source": [
    "**INSTRUCCIONES**: El DataFrame resultante debe almacenarse en la variable `resultado`, sustituyendo el valor `None` por el código que consideréis oportuno. De esta forma podréis comprobar si el resultado es correcto.\n"
   ]
  },
  {
   "cell_type": "code",
   "execution_count": 52,
   "id": "b3f6376b-fa7c-4226-a736-2c4f3b870a9e",
   "metadata": {},
   "outputs": [
    {
     "data": {
      "text/plain": [
       "resultado: org.apache.spark.sql.DataFrame = [mfamily: string, mgroup: string ... 4 more fields]\r\n"
      ]
     },
     "execution_count": 52,
     "metadata": {},
     "output_type": "execute_result"
    }
   ],
   "source": [
    "val resultado = trade_details.as(\"A\").join(trade_details_snapshot.as(\"B\"),col(\"A.origin_contract_number\") === col(\"B.origin_contract_number\"))\n",
    "                    .groupBy(\"A.mfamily\",\"A.mgroup\",\"A.mtype\",\"A.origin_contract_number\",\"A.origin_trade_number\",\"A.maturity\")\n",
    "                    .agg(max(\"B.maturity\").alias(\"ad\"))\n",
    "                    .groupBy(\"A.mfamily\",\"A.mgroup\",\"A.mtype\",\"A.origin_contract_number\")\n",
    "                    .agg(first(\"origin_trade_number\").alias(\"origin_trade_number\"),max(\"maturity\").alias(\"maturity\"))"
   ]
  },
  {
   "cell_type": "code",
   "execution_count": 54,
   "id": "977496b7",
   "metadata": {},
   "outputs": [
    {
     "data": {
      "text/plain": [
       "resultado: org.apache.spark.sql.DataFrame = [mfamily: string, mgroup: string ... 4 more fields]\r\n"
      ]
     },
     "execution_count": 54,
     "metadata": {},
     "output_type": "execute_result"
    }
   ],
   "source": [
    "val resultado = trade_details.as(\"A\").join(trade_details_snapshot.as(\"B\"),col(\"A.origin_contract_number\") === col(\"B.origin_contract_number\"))\n",
    "                    .groupBy(\"A.mfamily\",\"A.mgroup\",\"A.mtype\",\"A.origin_contract_number\",\"A.origin_trade_number\",\"A.maturity\")\n",
    "                    .agg(max(\"B.maturity\").alias(\"ad\"))\n",
    "                    .groupBy(\"A.mfamily\",\"A.mgroup\",\"A.mtype\",\"A.origin_contract_number\")\n",
    "                    .agg(max(\"ad\").alias(\"maturity\"),first(\"origin_trade_number\").alias(\"origin_trade_number\"))"
   ]
  },
  {
   "cell_type": "code",
   "execution_count": 90,
   "id": "54d0e511",
   "metadata": {},
   "outputs": [
    {
     "name": "stdout",
     "output_type": "stream",
     "text": [
      "+-------+------+-----+-------------------+----------------------+----------+----------+\n",
      "|mfamily|mgroup|mtype|origin_trade_number|origin_contract_number|  maturity|       aux|\n",
      "+-------+------+-----+-------------------+----------------------+----------+----------+\n",
      "|    EQD| EQUIT|  FWD|           10000001|              10000001|2019-07-02|2019-07-02|\n",
      "|    IRD|  BOND|  FWD|           10000009|              10000009|2021-06-12|2021-06-12|\n",
      "|    IRD|   IRS| null|          111222333|             111222333|2024-10-15|2024-10-15|\n",
      "|    IRD| LN_BR| null|           14596583|              13774383|2020-12-29|2020-12-29|\n",
      "|    IRD|   IRS| null|           18343978|              17356077|2024-10-15|2024-10-15|\n",
      "|    IRD| LN_BR| null|           19203839|              18176215|2022-10-06|2022-10-06|\n",
      "|   CURR|   FXD|SWLEG|           19665186|              18622136|2020-12-30|2020-12-30|\n",
      "|   CURR|   FXD|SWLEG|           19665185|              18622136|2020-04-29|2020-12-30|\n",
      "|   CURR|   FXD|SWLEG|           19772399|              18724280|      NULL|2021-11-05|\n",
      "|   CURR|   FXD|SWLEG|           19772400|              18724280|2021-11-05|2021-11-05|\n",
      "|    IRD|    CF| null|           20513130|              19433281|2021-07-06|2021-07-06|\n",
      "|    IRD|    CF| null|           20533916|              19453781|2023-07-06|2023-07-06|\n",
      "|   CURR|   FXD|SWLEG|           20665178|              19622128|2020-12-30|2020-12-30|\n",
      "|   CURR|   FXD|SWLEG|           20665177|              19622128|2020-04-29|2020-12-30|\n",
      "|   CURR|   FXD|SWLEG|           20980933|              19883451|      NULL|2020-02-02|\n",
      "|   CURR|   FXD|SWLEG|           20980932|              19883451|      NULL|2020-02-02|\n",
      "|    IRD|   IRS| null|           21183317|              20077630|2040-07-13|2040-07-13|\n",
      "|   CURR|   FXD|SWLEG|           22798005|              21622649|      NULL|2021-05-11|\n",
      "|   CURR|   FXD|SWLEG|           22798004|              21622649|      NULL|2021-05-11|\n",
      "|    IRD| LN_BR| null|               1111|                  2222|2022-10-06|2022-10-06|\n",
      "|    IRD|   IRS| null|            2222222|               2222222|2024-10-15|2024-10-15|\n",
      "|    IRD|   IRS| null|          222333111|             222333111|2020-12-30|2020-12-30|\n",
      "|    IRD|   IRS| null|          333111222|             333111222|2020-12-12|2020-12-12|\n",
      "|    IRD|   IRS| null|           33333333|              33333333|2024-10-15|2024-10-15|\n",
      "|    SCF|   SCF|  SCF|            3815982|               3672136|      NULL|2021-05-04|\n",
      "|    IRD|   IRS| null|          444111222|             444111222|      NULL|2021-05-04|\n",
      "|   CURR|   FXD|  FXD|           32734782|              54853428|2021-09-22|2021-09-22|\n",
      "|    IRD|   IRS| null|          555111222|             555111222|      NULL|2021-05-04|\n",
      "|    IRD|   IRS| null|          556111214|             556111214|      NULL|2021-05-04|\n",
      "|    IRD|   IRS| null|          564367838|             564367838|2024-10-15|2024-10-15|\n",
      "|    IRD|  BOND| null|          316391872|             678876251|2021-09-22|2021-09-22|\n",
      "+-------+------+-----+-------------------+----------------------+----------+----------+\n",
      "\r\n"
     ]
    },
    {
     "data": {
      "text/plain": [
       "resultado: org.apache.spark.sql.Dataset[org.apache.spark.sql.Row] = [mfamily: string, mgroup: string ... 5 more fields]\r\n"
      ]
     },
     "execution_count": 90,
     "metadata": {},
     "output_type": "execute_result"
    }
   ],
   "source": [
    "//bie\n",
    "val resultado =trade_details.as(\"A\").join(trade_details_snapshot.as(\"B\"),col(\"A.origin_contract_number\") === col(\"B.origin_contract_number\"))\n",
    "                    .groupBy(\"A.mfamily\",\"A.mgroup\",\"A.mtype\",\"A.origin_trade_number\",\"A.origin_contract_number\",\"A.maturity\")\n",
    "                    .agg(max(\"B.maturity\").alias(\"aux\"))\n",
    "                    .orderBy(\"aux\")\n",
    "                    .groupBy(\"A.mfamily\",\"A.mgroup\",\"A.mtype\",\"A.origin_contract_number\")\n",
    "                    .agg(first(\"origin_trade_number\").alias(\"origin_trade_number\"),first(\"maturity\").alias(\"maturity\"))\n",
    "                    .select(\"A.mfamily\",\"A.mgroup\",\"A.mtype\",\"origin_trade_number\",\"A.origin_contract_number\",\"maturity\")\n",
    "resultado.orderBy(\"origin_contract_number\").show(50)"
   ]
  },
  {
   "cell_type": "code",
   "execution_count": 4,
   "id": "74cfeca6",
   "metadata": {},
   "outputs": [
    {
     "name": "stdout",
     "output_type": "stream",
     "text": [
      "+-------+------+-----+----------------------+-------------------+----------+-----------------+\n",
      "|mfamily|mgroup|mtype|origin_contract_number|origin_trade_number|  maturity|maturity_snapshot|\n",
      "+-------+------+-----+----------------------+-------------------+----------+-----------------+\n",
      "|   CURR|   FXD|SWLEG|              18724280|           19772399|      NULL|       2021-11-05|\n",
      "|   CURR|   FXD|SWLEG|              21622649|           22798005|      NULL|       2021-05-11|\n",
      "|   CURR|   FXD|SWLEG|              21622649|           22798004|      NULL|       2021-05-11|\n",
      "|    IRD|   IRS| null|             555111222|          555111222|      NULL|       2021-05-04|\n",
      "|    SCF|   SCF|  SCF|               3672136|            3815982|      NULL|       2021-05-04|\n",
      "|    IRD|   IRS| null|             556111214|          556111214|      NULL|       2021-05-04|\n",
      "|    IRD|   IRS| null|             444111222|          444111222|      NULL|       2021-05-04|\n",
      "|   CURR|   FXD|SWLEG|              19883451|           20980933|      NULL|       2020-02-02|\n",
      "|   CURR|   FXD|SWLEG|              19883451|           20980932|      NULL|       2020-02-02|\n",
      "|    IRD|   IRS| null|              20077630|           21183317|2040-07-13|       2040-07-13|\n",
      "|    IRD|   IRS| null|             564367838|          564367838|2024-10-15|       2024-10-15|\n",
      "|    IRD|   IRS| null|               2222222|            2222222|2024-10-15|       2024-10-15|\n",
      "|    IRD|   IRS| null|              33333333|           33333333|2024-10-15|       2024-10-15|\n",
      "|    IRD|   IRS| null|             111222333|          111222333|2024-10-15|       2024-10-15|\n",
      "|    IRD|   IRS| null|              17356077|           18343978|2024-10-15|       2024-10-15|\n",
      "|    IRD|    CF| null|              19453781|           20533916|2023-07-06|       2023-07-06|\n",
      "|    IRD| LN_BR| null|                  2222|               1111|2022-10-06|       2022-10-06|\n",
      "|    IRD| LN_BR| null|              18176215|           19203839|2022-10-06|       2022-10-06|\n",
      "|   CURR|   FXD|SWLEG|              18724280|           19772400|2021-11-05|       2021-11-05|\n",
      "|   CURR|   FXD|  FXD|              54853428|           32734782|2021-09-22|       2021-09-22|\n",
      "|    IRD|  BOND| null|             678876251|          316391872|2021-09-22|       2021-09-22|\n",
      "|    IRD|    CF| null|              19433281|           20513130|2021-07-06|       2021-07-06|\n",
      "|    IRD|  BOND|  FWD|              10000009|           10000009|2021-06-12|       2021-06-12|\n",
      "|   CURR|   FXD|SWLEG|              18622136|           19665185|2020-12-30|       2020-12-30|\n",
      "|   CURR|   FXD|SWLEG|              19622128|           20665178|2020-12-30|       2020-12-30|\n",
      "|   CURR|   FXD|SWLEG|              18622136|           19665186|2020-12-30|       2020-12-30|\n",
      "|    IRD|   IRS| null|             222333111|          222333111|2020-12-30|       2020-12-30|\n",
      "|   CURR|   FXD|SWLEG|              19622128|           20665177|2020-12-30|       2020-12-30|\n",
      "|    IRD| LN_BR| null|              13774383|           14596583|2020-12-29|       2020-12-29|\n",
      "|    IRD|   IRS| null|             333111222|          333111222|2020-12-12|       2020-12-12|\n",
      "|    EQD| EQUIT|  FWD|              10000001|           10000001|2019-07-02|       2019-07-02|\n",
      "+-------+------+-----+----------------------+-------------------+----------+-----------------+\n",
      "\r\n"
     ]
    },
    {
     "data": {
      "text/plain": [
       "resultado: org.apache.spark.sql.Dataset[org.apache.spark.sql.Row] = [mfamily: string, mgroup: string ... 5 more fields]\r\n"
      ]
     },
     "execution_count": 4,
     "metadata": {},
     "output_type": "execute_result"
    }
   ],
   "source": [
    "//bien\n",
    "val resultado = trade_details.as(\"A\").join(trade_details_snapshot.as(\"B\"),col(\"A.origin_contract_number\") === col(\"B.origin_contract_number\"))\n",
    "                    .withColumn(\"aux\", when(col(\"A.maturity\") === \"NULL\",\"NULL\").otherwise(col(\"B.maturity\")))\n",
    "                    .groupBy(\"A.mfamily\", \"A.mgroup\", \"A.mtype\",\"A.origin_contract_number\",\"A.origin_trade_number\")\n",
    "                    .agg(max(\"aux\").alias(\"maturity\"),max(\"B.maturity\").alias(\"maturity_snapshot\"))\n",
    "                    .orderBy(desc(\"maturity\"),desc(\"maturity_snapshot\"))\n",
    "                    \n",
    "                    \n",
    "resultado.show(50)"
   ]
  },
  {
   "cell_type": "markdown",
   "id": "a1fe1f62-5956-4e00-9024-f3dc59db3238",
   "metadata": {},
   "source": [
    "Ejecuta la siguiente celda (no modifiques su código) y te dirá si tu solución es correcta o no. En caso de ser correcta, se ejecutará correctamente y no mostrará nada, pero si no lo es mostrará un error. Además de esas pruebas, se realizarán algunas más (ocultas) a la hora de puntuar el ejercicio, pero evaluar dicha celda es un indicador bastante fiable acerca de si realmente has implementado la solución correcta o no."
   ]
  },
  {
   "cell_type": "code",
   "execution_count": 104,
   "id": "dadcb308-a425-4812-81ba-d02df23a206f",
   "metadata": {},
   "outputs": [],
   "source": [
    "assert(resultado.count() == 26)\n",
    "assert(resultado.orderBy(\"origin_contract_number\").collect()(24)(4) == \"564367838\")\n",
    "assert(resultado.orderBy(\"origin_contract_number\").collect()(19)(5) == \"NULL\")\n",
    "assert(resultado.orderBy(\"origin_trade_number\").collect()(16)(5) == \"NULL\")"
   ]
  },
  {
   "cell_type": "code",
   "execution_count": null,
   "id": "7b17c923",
   "metadata": {},
   "outputs": [],
   "source": []
  }
 ],
 "metadata": {
  "kernelspec": {
   "display_name": "spylon-kernel",
   "language": "scala",
   "name": "spylon-kernel"
  },
  "language_info": {
   "codemirror_mode": "text/x-scala",
   "file_extension": ".scala",
   "help_links": [
    {
     "text": "MetaKernel Magics",
     "url": "https://metakernel.readthedocs.io/en/latest/source/README.html"
    }
   ],
   "mimetype": "text/x-scala",
   "name": "scala",
   "pygments_lexer": "scala",
   "version": "0.4.1"
  }
 },
 "nbformat": 4,
 "nbformat_minor": 5
}
