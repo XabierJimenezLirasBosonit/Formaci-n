{
 "cells": [
  {
   "cell_type": "markdown",
   "id": "7810bfe7-9a99-4661-b0ae-398645314a28",
   "metadata": {},
   "source": [
    "# **Reto II**"
   ]
  },
  {
   "cell_type": "markdown",
   "id": "991460d3-46be-4619-b92b-095c8aa22e71",
   "metadata": {},
   "source": [
    "### 1. Dataset\n",
    "\n",
    "Los datos de origen son proporcionados en un archivos csv:\n",
    "\n",
    "* udfs: dataset con datos de operaciones financieras.\n",
    "\n",
    "### 2. Columnas y significado:\n",
    "\n",
    "* nb: número de referencia de la operación.\n",
    "* contract: identificador de contrato.\n",
    "* udf_ref: identificador de operación de trading.\n",
    "* fmly: familia a la que pertenece la operación financiera.\n",
    "* grp: grupo al que pertenece la operación financiera.\n",
    "* type: tipo de operación financiera.\n",
    "* country: país de origen de la operación.\n",
    "* udf_name: campo informado en el registro.\n",
    "* num_value: valor numérico.\n",
    "* string_value: valor de cadena de caracteres.\n",
    "* date_value: valor de fecha.\n",
    "* data_timestamp_part: marca temporal.\n",
    "* data_date_part: fecha en la que se almacena la información.\n",
    "* source_system: fuente de los datos.\n",
    "\n",
    "### 3. Descripción del problema:\n",
    "\n",
    "Si hacemos una visión general a nuestro conjunto de datos, podemos observar como hay hasta 10 registros (filas) para cada valor de *nb*, donde cada registro solo da información para un valor de *udf_name*. Esto es un gasto innecesario de almacenamiento y computación, además de complicar los futuros cálculos derivados de estos datos. Por esta razón, necesitamos convertir estos registros con el mismo *nb* a un solo registro.\n",
    "\n",
    "Nuestro dataframe final tendrá que contener las siguientes columnas: `nb, M_CCY, M_CLIENT, M_CRDTCHRG, M_DIRECTIAV, M_DISCMARGIN, M_LIQDTYCHRG, M_MVA, M_RVA, M_SELLER, M_SUCURSAL`\n",
    "\n",
    "* nb: debe contener el número de referencia de la operación.\n",
    "* M_CLIENT, M_SELLER, M_CCY, M_SUCURSAL: deben mapear el valor de *string_value*\n",
    "* M_DISCMARGIN, M_DIRECTIAV, M_LIQDTYCHRG, M_CRDTCHRG, , M_MVA, M_RVA: deben mapear el valor de *num_value*\n",
    "\n",
    "\n",
    "Una vez tengamos este resultado, necesitaremos eliminar las operaciones que no tengan informados ninguno de los siguientes campos:\n",
    "\n",
    "M_DISCMARGIN, M_DIRECTIAV, M_LIQDTYCHRG, M_CRDTCHRG, M_MVA, M_RVA, M_SELLER\n",
    "\n",
    "No informados en este caso significa que o son valores nulos, vacíos o 0, en el caso de los campos numéricos.\n",
    "\n",
    "### 4. Reto:\n",
    "\n",
    "* Obtener un dataframe final que contenga las columnas indicadas, con un registro por *nb* y con los valores correctos mapeados.\n",
    "* Las operaciones con los campos M_DISCMARGIN, M_DIRECTIAV, M_LIQDTYCHRG, M_CRDTCHRG, , M_MVA, M_RVA, M_SELLER no informados no deben existir.\n",
    "* Hacerlo de la manera más eficiente posible a nivel computacional.\n",
    "\n",
    "**NOTA:** Cada uno de los pasos descritos en el problema pueden efectuarse en una sola línea."
   ]
  },
  {
   "cell_type": "markdown",
   "id": "01b9d0f8-6824-4c6a-9c8d-e189cc012e6a",
   "metadata": {},
   "source": [
    "### Inicialización de SparkSession:"
   ]
  },
  {
   "cell_type": "code",
   "execution_count": 1,
   "id": "d23122c1-afdd-4b5d-935b-15ba433a036f",
   "metadata": {},
   "outputs": [
    {
     "data": {
      "text/plain": [
       "Intitializing Scala interpreter ..."
      ]
     },
     "metadata": {},
     "output_type": "display_data"
    },
    {
     "data": {
      "text/plain": [
       "Spark Web UI available at http://L2110017.bosonit.local:4041\n",
       "SparkContext available as 'sc' (version = 3.1.2, master = local[*], app id = local-1641542646206)\n",
       "SparkSession available as 'spark'\n"
      ]
     },
     "metadata": {},
     "output_type": "display_data"
    },
    {
     "data": {
      "text/plain": [
       "import org.apache.spark.sql.SparkSession\r\n",
       "spark: org.apache.spark.sql.SparkSession = org.apache.spark.sql.SparkSession@caee0c3\r\n"
      ]
     },
     "execution_count": 1,
     "metadata": {},
     "output_type": "execute_result"
    }
   ],
   "source": [
    "import org.apache.spark.sql.SparkSession\n",
    "\n",
    "val spark = SparkSession.builder()\n",
    "                        .appName(\"Reto 2\")\n",
    "                        .master(\"local\")\n",
    "                        .getOrCreate()"
   ]
  },
  {
   "cell_type": "code",
   "execution_count": 2,
   "id": "6317b0bd-48ef-4598-9391-a04128d51dea",
   "metadata": {},
   "outputs": [
    {
     "name": "stdout",
     "output_type": "stream",
     "text": [
      "+---------+---------+---------+----+-----+-----+-------+------------+---------------+------------+----------+-------------------+--------------+-------------+\n",
      "|       nb| contract|  udf_ref|fmly|  grp| type|country|    udf_name|      num_value|string_value|date_value|data_timestamp_part|data_date_part|source_system|\n",
      "+---------+---------+---------+----+-----+-----+-------+------------+---------------+------------+----------+-------------------+--------------+-------------+\n",
      "|  2222222|  2222222|  2222222| IRD|  IRS| null|    ESP|M_DISCMARGIN|             10|        NULL|      NULL|     20210203032054|    2020-12-30|        Mx3EU|\n",
      "|  3815982|  3672136|  4951879| SCF|  SCF|  SCF|    ESP|M_DISCMARGIN| 0.000000000000|        NULL|      NULL|     20200406103021|    2020-12-30|        Mx3EU|\n",
      "| 14773283| 13940488| 21807924| IRD|LN_BR| null|    ESP|M_DISCMARGIN|            200|        NULL|      NULL|     20200406103021|    2020-12-30|        Mx3EU|\n",
      "| 18343978| 17356077| 27518638| IRD|  IRS| null|    ESP|M_DISCMARGIN|             10|        NULL|      NULL|     20210203032054|    2020-12-30|        Mx3EU|\n",
      "| 19665185| 18622136| 29395508|CURR|  FXD|SWLEG|    ESP|M_DISCMARGIN| 0.000000000000|        NULL|      NULL|     20201103034020|    2020-12-30|        Mx3EU|\n",
      "| 19665186| 18622136| 29395509|CURR|  FXD|SWLEG|    ESP|M_DISCMARGIN|            100|        NULL|      NULL|     20201103034020|    2020-12-30|        Mx3EU|\n",
      "| 19772399| 18724280| 29554564|CURR|  FXD|SWLEG|    ESP|M_DISCMARGIN|47.262000000000|        NULL|      NULL|     20201110033853|    2020-12-30|        Mx3EU|\n",
      "| 19772400| 18724280| 29554565|CURR|  FXD|SWLEG|    ESP|M_DISCMARGIN|47.262000000000|        NULL|      NULL|     20201110033853|    2020-12-30|        Mx3EU|\n",
      "| 20090399| 19028572| 28786653| IRD|LN_BR| null|    ESP|M_DISCMARGIN|            100|        NULL|      NULL|     20201128041303|    2020-12-30|        Mx3EU|\n",
      "| 20513130| 19433281| 30624160| IRD|   CF| null|    ESP|M_DISCMARGIN|             10|        NULL|      NULL|     20210203032054|    2020-12-30|        Mx3EU|\n",
      "| 20533916| 19453781| 30646157| IRD|   CF| null|    ESP|M_DISCMARGIN|             50|        NULL|      NULL|     20210203032054|    2020-12-30|        Mx3EU|\n",
      "| 20942931| 19846781| 31278333|CURR|  FXD|SWLEG|    ESP|M_DISCMARGIN| 0.000000000000|        NULL|      NULL|     20210119034531|    2020-12-30|        Mx3EU|\n",
      "| 20942932| 19846781| 31278334|CURR|  FXD|SWLEG|    ESP|M_DISCMARGIN| 0.000000000000|        NULL|      NULL|     20210119034531|    2020-12-30|        Mx3EU|\n",
      "| 20980932| 19883451| 31338228|CURR|  FXD|SWLEG|    ESP|M_DISCMARGIN| 0.112000000000|        NULL|      NULL|     20210121055954|    2020-12-30|        Mx3EU|\n",
      "| 20980933| 19883451| 31338229|CURR|  FXD|SWLEG|    ESP|M_DISCMARGIN| 0.112000000000|        NULL|      NULL|     20210121055954|    2020-12-30|        Mx3EU|\n",
      "| 21183317| 20077630| 31648639| IRD|  IRS| null|    ESP|M_DISCMARGIN| 0.000000000000|        NULL|      NULL|     20210203032054|    2020-12-30|        Mx3EU|\n",
      "| 21529916| 20410690| 32195132|CURR|  FXD|SWLEG|    ESP|M_DISCMARGIN| 0.000000000000|        NULL|      NULL|     20210220031554|    2020-12-30|        Mx3EU|\n",
      "| 21529917| 20410690| 32195133|CURR|  FXD|SWLEG|    ESP|M_DISCMARGIN| 0.000000000000|        NULL|      NULL|     20210220031554|    2020-12-30|        Mx3EU|\n",
      "| 33333333| 33333333| 33333333| IRD|  IRS| null|    ESP|M_DISCMARGIN| 0.000000000000|        NULL|      NULL|     20210203032054|    2020-12-30|        Mx3EU|\n",
      "|111222333|111222333|111222333| IRD|  IRS| null|    ESP|M_DISCMARGIN| 0.000000000000|        NULL|      NULL|     20210203032054|    2020-12-30|        Mx3EU|\n",
      "|222333111|222333111|222333111| IRD|  IRS| null|    ESP|M_DISCMARGIN| 0.000000000000|        NULL|      NULL|     20210203032054|    2020-12-30|        Mx3EU|\n",
      "|333111222|333111222|333111222| IRD|  IRS| null|    ESP|M_DISCMARGIN| 0.000000000000|        NULL|      NULL|     20210203032054|    2020-12-30|        Mx3EU|\n",
      "|444111222|444111222|444111222| IRD|  IRS| null|    ESP|M_DISCMARGIN| 0.000000000000|        NULL|      NULL|     20210203032054|    2020-12-30|        Mx3EU|\n",
      "|555111222|555111222|555111222| IRD|  IRS| null|    ESP|M_DISCMARGIN|             10|        NULL|      NULL|     20210203032054|    2020-12-30|        Mx3EU|\n",
      "|564367838|564367838|564367838| IRD|  IRS| null|    ESP|M_DISCMARGIN|             10|        NULL|      NULL|     20210203032054|    2020-12-30|        Mx3EU|\n",
      "| 20665177| 19622128| 30395500|CURR|  FXD|SWLEG|    ESP|M_DISCMARGIN| 0.000000000000|        NULL|      NULL|     20201103034020|    2020-12-30|        Mx3EU|\n",
      "| 20665178| 19622128| 30395501|CURR|  FXD|SWLEG|    ESP|M_DISCMARGIN|            100|        NULL|      NULL|     20201103034020|    2020-12-30|        Mx3EU|\n",
      "|556111214|556111214|556111214| IRD|  IRS| null|    ESP|M_DISCMARGIN|             10|        NULL|      NULL|     20210203032054|    2020-12-30|        Mx3EU|\n",
      "| 10000001| 10000001| 10000001| EQD|EQUIT|  FWD|    ESP|M_DISCMARGIN|             10|        NULL|      NULL|     20210203032054|    2020-12-30|        Mx3EU|\n",
      "| 10000009| 10000009| 10000009| IRD| BOND|  FWD|    ESP|M_DISCMARGIN|             10|        NULL|      NULL|     20210203032054|    2020-12-30|        Mx3EU|\n",
      "+---------+---------+---------+----+-----+-----+-------+------------+---------------+------------+----------+-------------------+--------------+-------------+\n",
      "\r\n"
     ]
    },
    {
     "data": {
      "text/plain": [
       "udfs: org.apache.spark.sql.DataFrame = [nb: string, contract: string ... 12 more fields]\r\n"
      ]
     },
     "execution_count": 2,
     "metadata": {},
     "output_type": "execute_result"
    }
   ],
   "source": [
    "val udfs = spark.read.format(\"csv\")\n",
    "                     .option(\"header\", \"true\")\n",
    "                     .option(\"delimiter\", \";\")\n",
    "                     .load(\"./reto2/udfs.csv\")\n",
    "udfs.where(col(\"udf_name\")===\"M_DISCMARGIN\").show(100)"
   ]
  },
  {
   "cell_type": "code",
   "execution_count": 40,
   "id": "a8a9c483",
   "metadata": {},
   "outputs": [
    {
     "name": "stdout",
     "output_type": "stream",
     "text": [
      "+---------+-----+--------+---------------+-----------------+--------------+---------------+--------------+--------------+----------+----------+\n",
      "|       nb|M_CCY|M_CLIENT|     M_CRDTCHRG|      M_DIRECTIAV|  M_DISCMARGIN|   M_LIQDTYCHRG|         M_MVA|         M_RVA|  M_SELLER|M_SUCURSAL|\n",
      "+---------+-----+--------+---------------+-----------------+--------------+---------------+--------------+--------------+----------+----------+\n",
      "| 20513130| null|    CCMO| 0.000000000000|   0.000000000000|            10| 0.000000000000|            20|0.000000000000|      WATT|      5493|\n",
      "| 18710605|  MXN|    null|           null|   0.000000000000|          null|           null|          null|          null|      AMAM|      null|\n",
      "| 20533916| null|    CCMO| 0.000000000000|   0.000000000000|            50| 0.000000000000|            30|0.000000000000|      WATT|      1999|\n",
      "| 23097010|  EUR|    null|           null|   0.000000000000|          null|           null|          null|          null|      AMAM|      null|\n",
      "|555111222|  USD|    null|30.000000000000|   0.000000000000|            10|50.000000000000|            20|0.000000000000|LB_TLECLER|      1999|\n",
      "| 22784054|  EUR|    null|           null|   0.000000000000|          null|           null|          null|          null|      AMAM|      null|\n",
      "| 22798005|  EUR|    null|           null|   0.000000000000|          null|           null|          null|          null|      AMAM|      null|\n",
      "| 22853656|  BRL|    null|           null|   0.000000000000|          null|           null|          null|          null|      AMAM|      null|\n",
      "| 10000001| null|    NULL|             20|   0.000000000000|            10|             30|0.000000000000|0.000000000000|   SELLER1|      1999|\n",
      "| 19665186| null|    NULL|20.000000000000|1200.000000000000|           100|20.000000000000|0.000000000000|0.000000000000|LB_VSTAVRE|      5493|\n",
      "| 23037162|  EUR|    null|           null|   0.000000000000|          null|           null|          null|          null|      AMAM|      null|\n",
      "| 33333333| null|    null| 0.000000000000|   0.000000000000|0.000000000000| 0.000000000000|0.000000000000|0.000000000000|   SSSSSSS|      null|\n",
      "| 23126648|  USD|    null|           null|   0.000000000000|          null|           null|          null|          null|      AMAM|      null|\n",
      "|316391872|  EUR|    null|           null|   0.000000000000|          null|           null|          null|          null|      AMAM|      null|\n",
      "|444111222| null|    MMMM| 0.000000000000|             9056|0.000000000000| 0.000000000000|            20|          8956|    VVVVVV|      1212|\n",
      "| 67843276|  EUR|    null|           null|   0.000000000000|          null|           null|          null|          null|      AMAM|      null|\n",
      "| 18937013|  EUR|    null|           null|   0.000000000000|          null|           null|          null|          null|      AMAM|      null|\n",
      "| 19665185| null|    NULL|20.000000000000|1200.000000000000|0.000000000000|20.000000000000|0.000000000000|0.000000000000|LB_VSTAVRE|      5493|\n",
      "| 20665178| null|    NULL|20.000000000000|1200.000000000000|           100|20.000000000000|0.000000000000|0.000000000000|LB_VSTAVRE|      5493|\n",
      "| 22980629|  EUR|    null|           null|   0.000000000000|          null|           null|          null|          null|      AMAM|      null|\n",
      "+---------+-----+--------+---------------+-----------------+--------------+---------------+--------------+--------------+----------+----------+\n",
      "only showing top 20 rows\n",
      "\r\n"
     ]
    },
    {
     "data": {
      "text/plain": [
       "resultado: org.apache.spark.sql.Dataset[org.apache.spark.sql.Row] = [nb: string, M_CCY: string ... 9 more fields]\r\n"
      ]
     },
     "execution_count": 40,
     "metadata": {},
     "output_type": "execute_result"
    }
   ],
   "source": []
  },
  {
   "cell_type": "code",
   "execution_count": 98,
   "id": "4c4841d1",
   "metadata": {},
   "outputs": [
    {
     "data": {
      "text/plain": [
       "a: org.apache.spark.sql.Dataset[org.apache.spark.sql.Row] = [nb: string, M_CCY: string ... 9 more fields]\r\n",
       "res85: Long = 61\r\n"
      ]
     },
     "execution_count": 98,
     "metadata": {},
     "output_type": "execute_result"
    }
   ],
   "source": [
    "val a= udfs.groupBy(\"nb\").pivot(\"udf_name\").agg(Map(\"num_value\"->\"first\"))\n",
    "        .union(udfs.groupBy(\"nb\").pivot(\"udf_name\").agg(Map(\"string_value\"->\"first\")))\n",
    "        .groupBy(\"nb\").agg(last(\"M_CCY\").alias(\"M_CCY\"),last(\"M_CLIENT\").alias(\"M_CLIENT\"),first(\"M_CRDTCHRG\").alias(\"M_CRDTCHRG\"),first(\"M_DIRECTIAV\").alias(\"M_DIRECTIAV\"),first(\"M_DISCMARGIN\").alias(\"M_DISCMARGIN\"),first(\"M_LIQDTYCHRG\").alias(\"M_LIQDTYCHRG\"),first(\"M_MVA\").alias(\"M_MVA\"),first(\"M_RVA\").alias(\"M_RVA\"),last(\"M_SELLER\").alias(\"M_SELLER\"),last(\"M_SUCURSAL\").alias(\"M_SUCURSAL\"))\n",
    "        .drop(\"M_PRUEBA\")\n",
    "        .filter(col(\"M_DISCMARGIN\").isNotNull || col(\"M_DIRECTIAV\").isNotNull || col(\"M_LIQDTYCHRG\").isNotNull || col(\"M_CRDTCHRG\").isNotNull || col(\"M_MVA\").isNotNull || col(\"M_RVA\").isNotNull || col(\"M_SELLER\").isNotNull || round(col(\"M_DISCMARGIN\"),0)=!=0 || round(col(\"M_DIRECTIAV\"),0)=!=0 || round(col(\"M_LIQDTYCHRG\"),0)=!=0 || round(col(\"M_CRDTCHRG\"),0)=!=0 || round(col(\"M_MVA\"),0)=!=0 || round(col(\"M_RVA\"),0)=!=0)\n",
    "a.count()\n",
    "//M_DISCMARGIN, M_DIRECTIAV, M_LIQDTYCHRG, M_CRDTCHRG, M_MVA, M_RVA, M_SELLER"
   ]
  },
  {
   "cell_type": "code",
   "execution_count": 99,
   "id": "b8ed5212",
   "metadata": {},
   "outputs": [
    {
     "data": {
      "text/plain": [
       "a: org.apache.spark.sql.Dataset[org.apache.spark.sql.Row] = [nb: string, M_CCY: string ... 9 more fields]\r\n",
       "res86: Long = 60\r\n"
      ]
     },
     "execution_count": 99,
     "metadata": {},
     "output_type": "execute_result"
    }
   ],
   "source": [
    "val a= udfs.groupBy(\"nb\").pivot(\"udf_name\").agg(Map(\"num_value\"->\"first\"))\n",
    "        .union(udfs.groupBy(\"nb\").pivot(\"udf_name\").agg(Map(\"string_value\"->\"first\")))\n",
    "        .groupBy(\"nb\").agg(last(\"M_CCY\").alias(\"M_CCY\"),last(\"M_CLIENT\").alias(\"M_CLIENT\"),first(\"M_CRDTCHRG\").alias(\"M_CRDTCHRG\"),first(\"M_DIRECTIAV\").alias(\"M_DIRECTIAV\"),first(\"M_DISCMARGIN\").alias(\"M_DISCMARGIN\"),first(\"M_LIQDTYCHRG\").alias(\"M_LIQDTYCHRG\"),first(\"M_MVA\").alias(\"M_MVA\"),first(\"M_RVA\").alias(\"M_RVA\"),last(\"M_SELLER\").alias(\"M_SELLER\"),last(\"M_SUCURSAL\").alias(\"M_SUCURSAL\"))\n",
    "        .drop(\"M_PRUEBA\")\n",
    "        .filter(col(\"M_SELLER\").isNotNull || round(col(\"M_DISCMARGIN\"),0)=!=0 || round(col(\"M_DIRECTIAV\"),0)=!=0 || round(col(\"M_LIQDTYCHRG\"),0)=!=0 || round(col(\"M_CRDTCHRG\"),0)=!=0 || round(col(\"M_MVA\"),0)=!=0 || round(col(\"M_RVA\"),0)=!=0)\n",
    "a.count()"
   ]
  },
  {
   "cell_type": "code",
   "execution_count": 59,
   "id": "25837a67",
   "metadata": {},
   "outputs": [
    {
     "ename": "<console>",
     "evalue": "29: error: not found: value pyspark\r",
     "output_type": "error",
     "traceback": [
      "<console>:29: error: not found: value pyspark\r",
      "       import pyspark.sql.types.StringType\r",
      "              ^\r",
      "<console>:30: error: not found: value StringType\r",
      "       val a= udfs.groupBy(\"nb\").pivot(\"udf_name\").agg(collect_list(\"string_value\").cast(StringType()))\r",
      "                                                                                         ^\r",
      ""
     ]
    }
   ],
   "source": [
    "import pyspark.sql.types.StringType\n",
    "val a= udfs.groupBy(\"nb\").pivot(\"udf_name\").agg(collect_list(\"string_value\").cast(StringType()))\n",
    ".drop(\"M_PRUEBA\")\n",
    "a.show(50)"
   ]
  },
  {
   "cell_type": "code",
   "execution_count": 76,
   "id": "9ecd9f83",
   "metadata": {},
   "outputs": [
    {
     "ename": "<console>",
     "evalue": "2: error: ')' expected but string literal found.\r",
     "output_type": "error",
     "traceback": [
      "<console>:2: error: ')' expected but string literal found.\r",
      "       val a= udfs.groupBy(\"nb\").pivot(\"udf_name\").agg(Map(\"M_SELLER\" -> \"collect_list(\"string_value\")\")).drop(\"M_PRUEBA\")\r",
      "                                                                                        ^\r",
      ""
     ]
    }
   ],
   "source": [
    "val a= udfs.groupBy(\"nb\").pivot(\"udf_name\").agg().drop(\"M_PRUEBA\")\n",
    "                    \n",
    "a.show(50)"
   ]
  },
  {
   "cell_type": "code",
   "execution_count": 73,
   "id": "ded6865f",
   "metadata": {},
   "outputs": [
    {
     "name": "stdout",
     "output_type": "stream",
     "text": [
      "+-------+--------+--------+----+-----+----+-------+------------+---------------+------------+----------+-------------------+--------------+-------------+\n",
      "|     nb|contract| udf_ref|fmly|  grp|type|country|    udf_name|      num_value|string_value|date_value|data_timestamp_part|data_date_part|source_system|\n",
      "+-------+--------+--------+----+-----+----+-------+------------+---------------+------------+----------+-------------------+--------------+-------------+\n",
      "| 444444|    3333|28786653| IRD|LN_BR|null|    ESP|       M_CCY|           NULL|        null|      NULL|     20201128041303|    2020-12-30|        Mx3EU|\n",
      "|2222222| 2222222| 2222222| IRD|  IRS|null|    ESP|  M_CRDTCHRG|30.000000000000|        NULL|      NULL|     20210203032054|    2020-12-30|        Mx3EU|\n",
      "|2222222| 2222222| 2222222| IRD|  IRS|null|    ESP|    M_SELLER|           NULL|  LB_TLECLER|      NULL|     20210203032054|    2020-12-30|        Mx3EU|\n",
      "|2222222| 2222222| 2222222| IRD|  IRS|null|    ESP|M_LIQDTYCHRG|50.000000000000|        NULL|      NULL|     20210203032054|    2020-12-30|        Mx3EU|\n",
      "|2222222| 2222222| 2222222| IRD|  IRS|null|    ESP|       M_MVA|             20|        NULL|      NULL|     20210203032054|    2020-12-30|        Mx3EU|\n",
      "|2222222| 2222222| 2222222| IRD|  IRS|null|    ESP|  M_SUCURSAL|           NULL|        1999|      NULL|     20210203032054|    2020-12-30|        Mx3EU|\n",
      "|2222222| 2222222| 2222222| IRD|  IRS|null|    ESP|       M_RVA| 0.000000000000|        NULL|      NULL|     20210203032054|    2020-12-30|        Mx3EU|\n",
      "|2222222| 2222222| 2222222| IRD|  IRS|null|    ESP| M_DIRECTIAV| 0.000000000000|        NULL|      NULL|     20210203032054|    2020-12-30|        Mx3EU|\n",
      "|2222222| 2222222| 2222222| IRD|  IRS|null|    ESP|    M_CLIENT|           NULL|        CCMO|      NULL|     20210203032054|    2020-12-30|        Mx3EU|\n",
      "|2222222| 2222222| 2222222| IRD|  IRS|null|    ESP|M_DISCMARGIN|             10|        NULL|      NULL|     20210203032054|    2020-12-30|        Mx3EU|\n",
      "|2222222| 2222222| 2222222| IRD|  IRS|null|    ESP|       M_CCY|           NULL|         USD|      NULL|     20210203032054|    2020-12-30|        Mx3EU|\n",
      "|3815982| 3672136| 4951879| SCF|  SCF| SCF|    ESP|M_DISCMARGIN| 0.000000000000|        NULL|      NULL|     20200406103021|    2020-12-30|        Mx3EU|\n",
      "|3815982| 3672136| 4951879| SCF|  SCF| SCF|    ESP|  M_SUCURSAL|           NULL|        null|      NULL|     20200406103021|    2020-12-30|        Mx3EU|\n",
      "|3815982| 3672136| 4951879| SCF|  SCF| SCF|    ESP|       M_RVA| 0.000000000000|        NULL|      NULL|     20200406103021|    2020-12-30|        Mx3EU|\n",
      "|3815982| 3672136| 4951879| SCF|  SCF| SCF|    ESP|M_LIQDTYCHRG| 0.000000000000|        NULL|      NULL|     20200406103021|    2020-12-30|        Mx3EU|\n",
      "|3815982| 3672136| 4951879| SCF|  SCF| SCF|    ESP|  M_CRDTCHRG| 0.000000000000|        NULL|      NULL|     20200406103021|    2020-12-30|        Mx3EU|\n",
      "|3815982| 3672136| 4951879| SCF|  SCF| SCF|    ESP|       M_MVA| 0.000000000000|        NULL|      NULL|     20200406103021|    2020-12-30|        Mx3EU|\n",
      "|3815982| 3672136| 4951879| SCF|  SCF| SCF|    ESP|    M_SELLER|           NULL|        null|      NULL|     20200406103021|    2020-12-30|        Mx3EU|\n",
      "|3815982| 3672136| 4951879| SCF|  SCF| SCF|    ESP|    M_CLIENT|           NULL|        null|      NULL|     20200406103021|    2020-12-30|        Mx3EU|\n",
      "|3815982| 3672136| 4951879| SCF|  SCF| SCF|    ESP| M_DIRECTIAV| 0.000000000000|        NULL|      NULL|     20200406103021|    2020-12-30|        Mx3EU|\n",
      "+-------+--------+--------+----+-----+----+-------+------------+---------------+------------+----------+-------------------+--------------+-------------+\n",
      "only showing top 20 rows\n",
      "\r\n"
     ]
    }
   ],
   "source": [
    "udfs.show()"
   ]
  },
  {
   "cell_type": "code",
   "execution_count": 50,
   "id": "b8d619ef",
   "metadata": {},
   "outputs": [
    {
     "name": "stdout",
     "output_type": "stream",
     "text": [
      "+--------+-----+--------+----------+-----------+------------+------------+-----+-----+--------+----------+\n",
      "|      nb|M_CCY|M_CLIENT|M_CRDTCHRG|M_DIRECTIAV|M_DISCMARGIN|M_LIQDTYCHRG|M_MVA|M_RVA|M_SELLER|M_SUCURSAL|\n",
      "+--------+-----+--------+----------+-----------+------------+------------+-----+-----+--------+----------+\n",
      "|23037162|[EUR]|      []|        []|         []|          []|          []|   []|   []|  [AMAM]|        []|\n",
      "+--------+-----+--------+----------+-----------+------------+------------+-----+-----+--------+----------+\n",
      "\r\n"
     ]
    }
   ],
   "source": [
    "a.where($\"nb\" === 23037162).show()"
   ]
  },
  {
   "cell_type": "code",
   "execution_count": 53,
   "id": "eed9198c",
   "metadata": {},
   "outputs": [
    {
     "name": "stdout",
     "output_type": "stream",
     "text": [
      "+--------+----------+--------+----+-----+-----+-------+------------+-----------------+------------+----------+-------------------+--------------+-------------+\n",
      "|      nb|  contract| udf_ref|fmly|  grp| type|country|    udf_name|        num_value|string_value|date_value|data_timestamp_part|data_date_part|source_system|\n",
      "+--------+----------+--------+----+-----+-----+-------+------------+-----------------+------------+----------+-------------------+--------------+-------------+\n",
      "|  444444|      3333|28786653| IRD|LN_BR| null|    ESP|       M_CCY|             NULL|        null|      NULL|     20201128041303|    2020-12-30|        Mx3EU|\n",
      "| 2222222|   2222222| 2222222| IRD|  IRS| null|    ESP|  M_CRDTCHRG|  30.000000000000|        NULL|      NULL|     20210203032054|    2020-12-30|        Mx3EU|\n",
      "| 2222222|   2222222| 2222222| IRD|  IRS| null|    ESP|    M_SELLER|             NULL|  LB_TLECLER|      NULL|     20210203032054|    2020-12-30|        Mx3EU|\n",
      "| 2222222|   2222222| 2222222| IRD|  IRS| null|    ESP|M_LIQDTYCHRG|  50.000000000000|        NULL|      NULL|     20210203032054|    2020-12-30|        Mx3EU|\n",
      "| 2222222|   2222222| 2222222| IRD|  IRS| null|    ESP|       M_MVA|               20|        NULL|      NULL|     20210203032054|    2020-12-30|        Mx3EU|\n",
      "| 2222222|   2222222| 2222222| IRD|  IRS| null|    ESP|  M_SUCURSAL|             NULL|        1999|      NULL|     20210203032054|    2020-12-30|        Mx3EU|\n",
      "| 2222222|   2222222| 2222222| IRD|  IRS| null|    ESP|       M_RVA|   0.000000000000|        NULL|      NULL|     20210203032054|    2020-12-30|        Mx3EU|\n",
      "| 2222222|   2222222| 2222222| IRD|  IRS| null|    ESP| M_DIRECTIAV|   0.000000000000|        NULL|      NULL|     20210203032054|    2020-12-30|        Mx3EU|\n",
      "| 2222222|   2222222| 2222222| IRD|  IRS| null|    ESP|    M_CLIENT|             NULL|        CCMO|      NULL|     20210203032054|    2020-12-30|        Mx3EU|\n",
      "| 2222222|   2222222| 2222222| IRD|  IRS| null|    ESP|M_DISCMARGIN|               10|        NULL|      NULL|     20210203032054|    2020-12-30|        Mx3EU|\n",
      "| 2222222|   2222222| 2222222| IRD|  IRS| null|    ESP|       M_CCY|             NULL|         USD|      NULL|     20210203032054|    2020-12-30|        Mx3EU|\n",
      "| 3815982|   3672136| 4951879| SCF|  SCF|  SCF|    ESP|M_DISCMARGIN|   0.000000000000|        NULL|      NULL|     20200406103021|    2020-12-30|        Mx3EU|\n",
      "| 3815982|   3672136| 4951879| SCF|  SCF|  SCF|    ESP|  M_SUCURSAL|             NULL|        null|      NULL|     20200406103021|    2020-12-30|        Mx3EU|\n",
      "| 3815982|   3672136| 4951879| SCF|  SCF|  SCF|    ESP|       M_RVA|   0.000000000000|        NULL|      NULL|     20200406103021|    2020-12-30|        Mx3EU|\n",
      "| 3815982|   3672136| 4951879| SCF|  SCF|  SCF|    ESP|M_LIQDTYCHRG|   0.000000000000|        NULL|      NULL|     20200406103021|    2020-12-30|        Mx3EU|\n",
      "| 3815982|   3672136| 4951879| SCF|  SCF|  SCF|    ESP|  M_CRDTCHRG|   0.000000000000|        NULL|      NULL|     20200406103021|    2020-12-30|        Mx3EU|\n",
      "| 3815982|   3672136| 4951879| SCF|  SCF|  SCF|    ESP|       M_MVA|   0.000000000000|        NULL|      NULL|     20200406103021|    2020-12-30|        Mx3EU|\n",
      "| 3815982|   3672136| 4951879| SCF|  SCF|  SCF|    ESP|    M_SELLER|             NULL|        null|      NULL|     20200406103021|    2020-12-30|        Mx3EU|\n",
      "| 3815982|   3672136| 4951879| SCF|  SCF|  SCF|    ESP|    M_CLIENT|             NULL|        null|      NULL|     20200406103021|    2020-12-30|        Mx3EU|\n",
      "| 3815982|   3672136| 4951879| SCF|  SCF|  SCF|    ESP| M_DIRECTIAV|   0.000000000000|        NULL|      NULL|     20200406103021|    2020-12-30|        Mx3EU|\n",
      "| 3815982|   3672136| 4951879| SCF|  SCF|  SCF|    ESP|       M_CCY|             NULL|        null|      NULL|     20200406103021|    2020-12-30|        Mx3EU|\n",
      "| 8216817|4134354251|32143453|CURR|  FXD|  FXD|    ESP|       M_CCY|             NULL|         EUR|      NULL|     20210331035233|    2020-12-30|        Mx3EU|\n",
      "| 8216817|4134354251|32143453|CURR|  FXD|  FXD|    ESP| M_DIRECTIAV|   0.000000000000|        null|      null|     20210331035233|    2020-12-30|        Mx3EU|\n",
      "| 8216817|4134354251|32143453|CURR|  FXD|  FXD|    ESP|    M_SELLER|             NULL|        AMAM|      NULL|     20210331035233|    2020-12-30|        Mx3EU|\n",
      "|14773283|  13940488|21807924| IRD|LN_BR| null|    ESP|M_DISCMARGIN|              200|        NULL|      NULL|     20200406103021|    2020-12-30|        Mx3EU|\n",
      "|14773283|  13940488|21807924| IRD|LN_BR| null|    ESP|    M_CLIENT|             NULL|        NULL|      NULL|     20200406103021|    2020-12-30|        Mx3EU|\n",
      "|14773283|  13940488|21807924| IRD|LN_BR| null|    ESP|       M_RVA|                5|        NULL|      NULL|     20200406103021|    2020-12-30|        Mx3EU|\n",
      "|14773283|  13940488|21807924| IRD|LN_BR| null|    ESP|M_LIQDTYCHRG|               10|        NULL|      NULL|     20200406103021|    2020-12-30|        Mx3EU|\n",
      "|14773283|  13940488|21807924| IRD|LN_BR| null|    ESP|  M_CRDTCHRG|               10|        NULL|      NULL|     20200406103021|    2020-12-30|        Mx3EU|\n",
      "|14773283|  13940488|21807924| IRD|LN_BR| null|    ESP|       M_MVA|               10|        NULL|      NULL|     20200406103021|    2020-12-30|        Mx3EU|\n",
      "|14773283|  13940488|21807924| IRD|LN_BR| null|    ESP|  M_SUCURSAL|             NULL|        5493|      NULL|     20200406103021|    2020-12-30|        Mx3EU|\n",
      "|14773283|  13940488|21807924| IRD|LN_BR| null|    ESP|    M_SELLER|             NULL|        null|      NULL|     20200406103021|    2020-12-30|        Mx3EU|\n",
      "|14773283|  13940488|21807924| IRD|LN_BR| null|    ESP| M_DIRECTIAV|               10|        NULL|      NULL|     20200406103021|    2020-12-30|        Mx3EU|\n",
      "|14773283|  13940488|21807924| IRD|LN_BR| null|    ESP|    M_PRUEBA|             NULL|      PRUEBA|      NULL|     20200406103021|    2020-12-30|        Mx3EU|\n",
      "|14773283|  13940488|21807924| IRD|LN_BR| null|    ESP|       M_CCY|             NULL|        null|      NULL|     20200406103021|    2020-12-30|        Mx3EU|\n",
      "|16719306|  15798306|25071456|CURR|  FXD|  FXD|    ESP|       M_CCY|             NULL|         USD|      NULL|     20200505030839|    2020-12-30|        Mx3EU|\n",
      "|16719306|  15798306|25071456|CURR|  FXD|  FXD|    ESP| M_DIRECTIAV|   0.000000000000|        NULL|      NULL|     20200505030839|    2020-12-30|        Mx3EU|\n",
      "|16719306|  15798306|25071456|CURR|  FXD|  FXD|    ESP|    M_SELLER|             NULL|        AMAM|      NULL|     20200505030839|    2020-12-30|        Mx3EU|\n",
      "|18343978|  17356077|27518638| IRD|  IRS| null|    ESP|  M_CRDTCHRG|   0.000000000000|        NULL|      NULL|     20210203032054|    2020-12-30|        Mx3EU|\n",
      "|18343978|  17356077|27518638| IRD|  IRS| null|    ESP|    M_SELLER|             NULL|  LB_TLECLER|      NULL|     20210203032054|    2020-12-30|        Mx3EU|\n",
      "|18343978|  17356077|27518638| IRD|  IRS| null|    ESP|M_LIQDTYCHRG|   0.000000000000|        NULL|      NULL|     20210203032054|    2020-12-30|        Mx3EU|\n",
      "|18343978|  17356077|27518638| IRD|  IRS| null|    ESP|       M_MVA|               20|        NULL|      NULL|     20210203032054|    2020-12-30|        Mx3EU|\n",
      "|18343978|  17356077|27518638| IRD|  IRS| null|    ESP|  M_SUCURSAL|             NULL|        1999|      NULL|     20210203032054|    2020-12-30|        Mx3EU|\n",
      "|18343978|  17356077|27518638| IRD|  IRS| null|    ESP|       M_RVA|   0.000000000000|        NULL|      NULL|     20210203032054|    2020-12-30|        Mx3EU|\n",
      "|18343978|  17356077|27518638| IRD|  IRS| null|    ESP| M_DIRECTIAV|   0.000000000000|        NULL|      NULL|     20210203032054|    2020-12-30|        Mx3EU|\n",
      "|18343978|  17356077|27518638| IRD|  IRS| null|    ESP|    M_CLIENT|             NULL|        CCMO|      NULL|     20210203032054|    2020-12-30|        Mx3EU|\n",
      "|18343978|  17356077|27518638| IRD|  IRS| null|    ESP|M_DISCMARGIN|               10|        NULL|      NULL|     20210203032054|    2020-12-30|        Mx3EU|\n",
      "|18343978|  17356077|27518638| IRD|  IRS| null|    ESP|       M_CCY|             NULL|         GBP|      NULL|     20210203032054|    2020-12-30|        Mx3EU|\n",
      "|18710605|  17705569|28066233|CURR|  FXD|SWLEG|    ESP|       M_CCY|             NULL|         MXN|      NULL|     20200909033931|    2020-12-30|        Mx3EU|\n",
      "|18710605|  17705569|28066233|CURR|  FXD|SWLEG|    ESP| M_DIRECTIAV|   0.000000000000|        NULL|      NULL|     20200909033931|    2020-12-30|        Mx3EU|\n",
      "|18710605|  17705569|28066233|CURR|  FXD|SWLEG|    ESP|    M_SELLER|             NULL|        AMAM|      NULL|     20200909033931|    2020-12-30|        Mx3EU|\n",
      "|18710606|  17705569|28066234|CURR|  FXD|SWLEG|    ESP|       M_CCY|             NULL|         MXN|      NULL|     20200909033931|    2020-12-30|        Mx3EU|\n",
      "|18710606|  17705569|28066234|CURR|  FXD|SWLEG|    ESP| M_DIRECTIAV|   0.000000000000|        NULL|      NULL|     20200909033931|    2020-12-30|        Mx3EU|\n",
      "|18710606|  17705569|28066234|CURR|  FXD|SWLEG|    ESP|    M_SELLER|             NULL|        AMAM|      NULL|     20200909033931|    2020-12-30|        Mx3EU|\n",
      "|18937012|  17921810|28395739|CURR|  FXD|SWLEG|    ESP|       M_CCY|             NULL|         EUR|      NULL|     20200924034438|    2020-12-30|        Mx3EU|\n",
      "|18937012|  17921810|28395739|CURR|  FXD|SWLEG|    ESP| M_DIRECTIAV|   0.000000000000|        NULL|      NULL|     20200924034438|    2020-12-30|        Mx3EU|\n",
      "|18937012|  17921810|28395739|CURR|  FXD|SWLEG|    ESP|    M_SELLER|             NULL|        AMAM|      NULL|     20200924034438|    2020-12-30|        Mx3EU|\n",
      "|18937013|  17921810|28395740|CURR|  FXD|SWLEG|    ESP|       M_CCY|             NULL|         EUR|      NULL|     20200924034438|    2020-12-30|        Mx3EU|\n",
      "|18937013|  17921810|28395740|CURR|  FXD|SWLEG|    ESP| M_DIRECTIAV|   0.000000000000|        NULL|      NULL|     20200924034438|    2020-12-30|        Mx3EU|\n",
      "|18937013|  17921810|28395740|CURR|  FXD|SWLEG|    ESP|    M_SELLER|             NULL|        AMAM|      NULL|     20200924034438|    2020-12-30|        Mx3EU|\n",
      "|19335398|  18302860|28963528|CURR|  FXD|  FXD|    ESP|       M_CCY|             NULL|         USD|      NULL|     20201020120706|    2020-12-30|        Mx3EU|\n",
      "|19335398|  18302860|28963528|CURR|  FXD|  FXD|    ESP| M_DIRECTIAV|   0.000000000000|        NULL|      NULL|     20201020120706|    2020-12-30|        Mx3EU|\n",
      "|19335398|  18302860|28963528|CURR|  FXD|  FXD|    ESP|    M_SELLER|             NULL|        AMAM|      NULL|     20201020120706|    2020-12-30|        Mx3EU|\n",
      "|19665185|  18622136|29395508|CURR|  FXD|SWLEG|    ESP|       M_MVA|   0.000000000000|        NULL|      NULL|     20201103034020|    2020-12-30|        Mx3EU|\n",
      "|19665185|  18622136|29395508|CURR|  FXD|SWLEG|    ESP|  M_CRDTCHRG|  20.000000000000|        NULL|      NULL|     20201103034020|    2020-12-30|        Mx3EU|\n",
      "|19665185|  18622136|29395508|CURR|  FXD|SWLEG|    ESP|M_LIQDTYCHRG|  20.000000000000|        NULL|      NULL|     20201103034020|    2020-12-30|        Mx3EU|\n",
      "|19665185|  18622136|29395508|CURR|  FXD|SWLEG|    ESP|M_DISCMARGIN|   0.000000000000|        NULL|      NULL|     20201103034020|    2020-12-30|        Mx3EU|\n",
      "|19665185|  18622136|29395508|CURR|  FXD|SWLEG|    ESP|    M_CLIENT|             NULL|        NULL|      NULL|     20201103034020|    2020-12-30|        Mx3EU|\n",
      "|19665185|  18622136|29395508|CURR|  FXD|SWLEG|    ESP| M_DIRECTIAV|1200.000000000000|        NULL|      NULL|     20201103034020|    2020-12-30|        Mx3EU|\n",
      "|19665185|  18622136|29395508|CURR|  FXD|SWLEG|    ESP|    M_SELLER|             NULL|  LB_VSTAVRE|      NULL|     20201103034020|    2020-12-30|        Mx3EU|\n",
      "|19665185|  18622136|29395508|CURR|  FXD|SWLEG|    ESP|  M_SUCURSAL|             NULL|        5493|      NULL|     20201103034020|    2020-12-30|        Mx3EU|\n",
      "|19665185|  18622136|29395508|CURR|  FXD|SWLEG|    ESP|       M_RVA|   0.000000000000|        NULL|      NULL|     20201103034020|    2020-12-30|        Mx3EU|\n",
      "|19665185|  18622136|29395508|CURR|  FXD|SWLEG|    ESP|       M_CCY|             NULL|        null|      NULL|     20201103034020|    2020-12-30|        Mx3EU|\n",
      "|19665186|  18622136|29395509|CURR|  FXD|SWLEG|    ESP|M_LIQDTYCHRG|  20.000000000000|        NULL|      NULL|     20201103034020|    2020-12-30|        Mx3EU|\n",
      "|19665186|  18622136|29395509|CURR|  FXD|SWLEG|    ESP|M_DISCMARGIN|              100|        NULL|      NULL|     20201103034020|    2020-12-30|        Mx3EU|\n",
      "|19665186|  18622136|29395509|CURR|  FXD|SWLEG|    ESP|    M_SELLER|             NULL|  LB_VSTAVRE|      NULL|     20201103034020|    2020-12-30|        Mx3EU|\n",
      "|19665186|  18622136|29395509|CURR|  FXD|SWLEG|    ESP| M_DIRECTIAV|1200.000000000000|        NULL|      NULL|     20201103034020|    2020-12-30|        Mx3EU|\n",
      "|19665186|  18622136|29395509|CURR|  FXD|SWLEG|    ESP|    M_CLIENT|             NULL|        NULL|      NULL|     20201103034020|    2020-12-30|        Mx3EU|\n",
      "|19665186|  18622136|29395509|CURR|  FXD|SWLEG|    ESP|       M_MVA|   0.000000000000|        NULL|      NULL|     20201103034020|    2020-12-30|        Mx3EU|\n",
      "|19665186|  18622136|29395509|CURR|  FXD|SWLEG|    ESP|  M_SUCURSAL|             NULL|        5493|      NULL|     20201103034020|    2020-12-30|        Mx3EU|\n",
      "|19665186|  18622136|29395509|CURR|  FXD|SWLEG|    ESP|       M_RVA|   0.000000000000|        NULL|      NULL|     20201103034020|    2020-12-30|        Mx3EU|\n",
      "|19665186|  18622136|29395509|CURR|  FXD|SWLEG|    ESP|  M_CRDTCHRG|  20.000000000000|        NULL|      NULL|     20201103034020|    2020-12-30|        Mx3EU|\n",
      "|19665186|  18622136|29395509|CURR|  FXD|SWLEG|    ESP|       M_CCY|             NULL|        null|      NULL|     20201103034020|    2020-12-30|        Mx3EU|\n",
      "|19772399|  18724280|29554564|CURR|  FXD|SWLEG|    ESP| M_DIRECTIAV|   0.000000000000|        NULL|      NULL|     20201110033853|    2020-12-30|        Mx3EU|\n",
      "|19772399|  18724280|29554564|CURR|  FXD|SWLEG|    ESP|  M_SUCURSAL|             NULL|        1999|      NULL|     20201110033853|    2020-12-30|        Mx3EU|\n",
      "|19772399|  18724280|29554564|CURR|  FXD|SWLEG|    ESP|    M_CLIENT|             NULL|        null|      NULL|     20201110033853|    2020-12-30|        Mx3EU|\n",
      "|19772399|  18724280|29554564|CURR|  FXD|SWLEG|    ESP|       M_RVA|   0.000000000000|        NULL|      NULL|     20201110033853|    2020-12-30|        Mx3EU|\n",
      "|19772399|  18724280|29554564|CURR|  FXD|SWLEG|    ESP|    M_SELLER|             NULL|  LB_TLECLER|      NULL|     20201110033853|    2020-12-30|        Mx3EU|\n",
      "|19772399|  18724280|29554564|CURR|  FXD|SWLEG|    ESP|  M_CRDTCHRG|   0.000000000000|        NULL|      NULL|     20201110033853|    2020-12-30|        Mx3EU|\n",
      "|19772399|  18724280|29554564|CURR|  FXD|SWLEG|    ESP|       M_MVA|   0.000000000000|        NULL|      NULL|     20201110033853|    2020-12-30|        Mx3EU|\n",
      "|19772399|  18724280|29554564|CURR|  FXD|SWLEG|    ESP|M_LIQDTYCHRG|   0.000000000000|        NULL|      NULL|     20201110033853|    2020-12-30|        Mx3EU|\n",
      "|19772399|  18724280|29554564|CURR|  FXD|SWLEG|    ESP|M_DISCMARGIN|  47.262000000000|        NULL|      NULL|     20201110033853|    2020-12-30|        Mx3EU|\n",
      "|19772399|  18724280|29554564|CURR|  FXD|SWLEG|    ESP|       M_CCY|             NULL|        null|      NULL|     20201110033853|    2020-12-30|        Mx3EU|\n",
      "|19772400|  18724280|29554565|CURR|  FXD|SWLEG|    ESP|    M_SELLER|             NULL|  LB_TLECLER|      NULL|     20201110033853|    2020-12-30|        Mx3EU|\n",
      "|19772400|  18724280|29554565|CURR|  FXD|SWLEG|    ESP| M_DIRECTIAV|   0.000000000000|        NULL|      NULL|     20201110033853|    2020-12-30|        Mx3EU|\n",
      "|19772400|  18724280|29554565|CURR|  FXD|SWLEG|    ESP|       M_MVA|   0.000000000000|        NULL|      NULL|     20201110033853|    2020-12-30|        Mx3EU|\n",
      "|19772400|  18724280|29554565|CURR|  FXD|SWLEG|    ESP|M_DISCMARGIN|  47.262000000000|        NULL|      NULL|     20201110033853|    2020-12-30|        Mx3EU|\n",
      "|19772400|  18724280|29554565|CURR|  FXD|SWLEG|    ESP|M_LIQDTYCHRG|               30|        NULL|      NULL|     20201110033853|    2020-12-30|        Mx3EU|\n",
      "|19772400|  18724280|29554565|CURR|  FXD|SWLEG|    ESP|    M_CLIENT|             NULL|        null|      NULL|     20201110033853|    2020-12-30|        Mx3EU|\n"
     ]
    },
    {
     "name": "stdout",
     "output_type": "stream",
     "text": [
      "|19772400|  18724280|29554565|CURR|  FXD|SWLEG|    ESP|  M_SUCURSAL|             NULL|        1999|      NULL|     20201110033853|    2020-12-30|        Mx3EU|\n",
      "+--------+----------+--------+----+-----+-----+-------+------------+-----------------+------------+----------+-------------------+--------------+-------------+\n",
      "only showing top 100 rows\n",
      "\r\n"
     ]
    }
   ],
   "source": [
    "udfs.show(100)"
   ]
  },
  {
   "cell_type": "markdown",
   "id": "b64e281a-7e09-4627-91ca-eefa8c1ed7dc",
   "metadata": {},
   "source": [
    "### Resultado:\n",
    "\n",
    "**INSTRUCCIONES**: El DataFrame resultante debe almacenarse en la variable `resultado`, sustituyendo el valor `None` por el código que consideréis oportuno. De esta forma podréis comprobar si el resultado es correcto."
   ]
  },
  {
   "cell_type": "code",
   "execution_count": 57,
   "id": "8860be56",
   "metadata": {},
   "outputs": [
    {
     "data": {
      "text/plain": [
       "resultado: org.apache.spark.sql.Dataset[org.apache.spark.sql.Row] = [nb: string, M_CCY: string ... 9 more fields]\r\n"
      ]
     },
     "execution_count": 57,
     "metadata": {},
     "output_type": "execute_result"
    }
   ],
   "source": [
    "//bien\n",
    "val resultado = udfs.groupBy(\"nb\").pivot(\"udf_name\").agg(Map(\"num_value\"->\"first\"))\n",
    "        .union(udfs.groupBy(\"nb\").pivot(\"udf_name\").agg(Map(\"string_value\"->\"first\")))\n",
    "        .groupBy(\"nb\").agg(last(\"M_CCY\").alias(\"M_CCY\"),last(\"M_CLIENT\").alias(\"M_CLIENT\"),first(\"M_CRDTCHRG\").alias(\"M_CRDTCHRG\"),first(\"M_DIRECTIAV\").alias(\"M_DIRECTIAV\"),first(\"M_DISCMARGIN\").alias(\"M_DISCMARGIN\"),first(\"M_LIQDTYCHRG\").alias(\"M_LIQDTYCHRG\"),first(\"M_MVA\").alias(\"M_MVA\"),first(\"M_RVA\").alias(\"M_RVA\"),last(\"M_SELLER\").alias(\"M_SELLER\"),last(\"M_SUCURSAL\").alias(\"M_SUCURSAL\"))\n",
    "        .drop(\"M_PRUEBA\")\n",
    "        .filter(col(\"M_SELLER\")=!=\"NULL\" || col(\"M_SELLER\")=!=\"NULL\" || col(\"M_SELLER\").isNotNull || col(\"M_DISCMARGIN\")=!=0 || col(\"M_DIRECTIAV\")=!=0 || col(\"M_LIQDTYCHRG\")=!=0 || col(\"M_CRDTCHRG\")=!=0 || col(\"M_MVA\")=!=0 || col(\"M_RVA\")=!=0)\n",
    "\n",
    "\n",
    "//resultado.orderBy(\"nb\").show()"
   ]
  },
  {
   "cell_type": "code",
   "execution_count": 54,
   "id": "4664a75c",
   "metadata": {},
   "outputs": [
    {
     "name": "stdout",
     "output_type": "stream",
     "text": [
      "+---------+-----+--------+---------------+-----------------+---------------+---------------+--------------+--------------+----------+----------+\n",
      "|       nb|M_CCY|M_CLIENT|     M_CRDTCHRG|      M_DIRECTIAV|   M_DISCMARGIN|   M_LIQDTYCHRG|         M_MVA|         M_RVA|  M_SELLER|M_SUCURSAL|\n",
      "+---------+-----+--------+---------------+-----------------+---------------+---------------+--------------+--------------+----------+----------+\n",
      "| 10000001| null|    NULL|             20|   0.000000000000|             10|             30|0.000000000000|0.000000000000|   SELLER1|      1999|\n",
      "| 10000009| null|    NULL|             20|   0.000000000000|             10|             30|0.000000000000|0.000000000000|   SELLER9|      1999|\n",
      "|111222333| null|    MMMM| 0.000000000000|             9056| 0.000000000000| 0.000000000000|            20|          8956|    VVVVVV|      1212|\n",
      "| 14773283| null|    NULL|             10|               10|            200|             10|            10|             5|      null|      5493|\n",
      "| 16719306|  USD|    null|           null|   0.000000000000|           null|           null|          null|          null|      AMAM|      null|\n",
      "| 18343978|  GBP|    CCMO| 0.000000000000|   0.000000000000|             10| 0.000000000000|            20|0.000000000000|LB_TLECLER|      1999|\n",
      "| 18710605|  MXN|    null|           null|   0.000000000000|           null|           null|          null|          null|      AMAM|      null|\n",
      "| 18710606|  MXN|    null|           null|   0.000000000000|           null|           null|          null|          null|      AMAM|      null|\n",
      "| 18937012|  EUR|    null|           null|   0.000000000000|           null|           null|          null|          null|      AMAM|      null|\n",
      "| 18937013|  EUR|    null|           null|   0.000000000000|           null|           null|          null|          null|      AMAM|      null|\n",
      "| 19335398|  USD|    null|           null|   0.000000000000|           null|           null|          null|          null|      AMAM|      null|\n",
      "| 19665185| null|    NULL|20.000000000000|1200.000000000000| 0.000000000000|20.000000000000|0.000000000000|0.000000000000|LB_VSTAVRE|      5493|\n",
      "| 19665186| null|    NULL|20.000000000000|1200.000000000000|            100|20.000000000000|0.000000000000|0.000000000000|LB_VSTAVRE|      5493|\n",
      "| 19772399| null|    null| 0.000000000000|   0.000000000000|47.262000000000| 0.000000000000|0.000000000000|0.000000000000|LB_TLECLER|      1999|\n",
      "| 19772400| null|    null|             10|   0.000000000000|47.262000000000|             30|0.000000000000|0.000000000000|LB_TLECLER|      1999|\n",
      "| 20090399| null|    null|              5|               20|            100|             10|            10|            10|      null|      null|\n",
      "| 20513130| null|    CCMO| 0.000000000000|   0.000000000000|             10| 0.000000000000|            20|0.000000000000|      WATT|      5493|\n",
      "| 20533916| null|    CCMO| 0.000000000000|   0.000000000000|             50| 0.000000000000|            30|0.000000000000|      WATT|      1999|\n",
      "| 20665177| null|    NULL|20.000000000000|1200.000000000000| 0.000000000000|20.000000000000|0.000000000000|0.000000000000|LB_VSTAVRE|      5493|\n",
      "| 20665178| null|    NULL|20.000000000000|1200.000000000000|            100|20.000000000000|0.000000000000|0.000000000000|LB_VSTAVRE|      5493|\n",
      "+---------+-----+--------+---------------+-----------------+---------------+---------------+--------------+--------------+----------+----------+\n",
      "only showing top 20 rows\n",
      "\r\n"
     ]
    },
    {
     "data": {
      "text/plain": [
       "resultado: org.apache.spark.sql.Dataset[org.apache.spark.sql.Row] = [nb: string, M_CCY: string ... 9 more fields]\r\n"
      ]
     },
     "execution_count": 54,
     "metadata": {},
     "output_type": "execute_result"
    }
   ],
   "source": [
    "//bien2 \n",
    "val resultado= udfs.withColumn(\"num_value\",when(col(\"num_value\")===\"NULL\",null).otherwise(col(\"num_value\")))\n",
    "           .withColumn(\"aux\",when(col(\"num_value\").isNull,col(\"string_value\")).otherwise(col(\"num_value\")))\n",
    "           .groupBy(\"nb\").pivot(\"udf_name\").agg(Map(\"aux\"->\"first\"))\n",
    "           .drop(\"M_PRUEBA\")\n",
    "           .filter(col(\"M_SELLER\")=!=\"\" || col(\"M_SELLER\")=!=\"NULL\" || col(\"M_SELLER\").isNotNull || col(\"M_DISCMARGIN\")=!=0 || col(\"M_DIRECTIAV\")=!=0 || col(\"M_LIQDTYCHRG\")=!=0 || col(\"M_CRDTCHRG\")=!=0 || col(\"M_MVA\")=!=0 || col(\"M_RVA\")=!=0)\n",
    "\n",
    "//resultado.orderBy(\"nb\").show()"
   ]
  },
  {
   "cell_type": "code",
   "execution_count": 55,
   "id": "4c94d779-7dd1-4804-9659-c61ae306a0eb",
   "metadata": {},
   "outputs": [],
   "source": [
    "assert(resultado.count() == 60)\n",
    "assert(resultado.columns.size == 11)\n",
    "assert(resultado.columns(4) == \"M_DIRECTIAV\")\n",
    "assert(resultado.select(\"M_SELLER\").filter($\"nb\" === 23037162).first.getString(0) == \"AMAM\")\n",
    "assert(resultado.select(\"M_SELLER\").filter($\"nb\" === 19665186).first.getString(0) == \"LB_VSTAVRE\")\n",
    "assert(resultado.select(\"M_RVA\").filter($\"nb\" === 444111222).first.getString(0) == \"8956\")"
   ]
  }
 ],
 "metadata": {
  "kernelspec": {
   "display_name": "spylon-kernel",
   "language": "scala",
   "name": "spylon-kernel"
  },
  "language_info": {
   "codemirror_mode": "text/x-scala",
   "file_extension": ".scala",
   "help_links": [
    {
     "text": "MetaKernel Magics",
     "url": "https://metakernel.readthedocs.io/en/latest/source/README.html"
    }
   ],
   "mimetype": "text/x-scala",
   "name": "scala",
   "pygments_lexer": "scala",
   "version": "0.4.1"
  }
 },
 "nbformat": 4,
 "nbformat_minor": 5
}
